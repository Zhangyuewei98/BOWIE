{
 "cells": [
  {
   "cell_type": "markdown",
   "metadata": {},
   "source": [
    "# Guide to pyphenomd.py"
   ]
  },
  {
   "cell_type": "code",
   "execution_count": 1,
   "metadata": {
    "collapsed": false
   },
   "outputs": [],
   "source": [
    "from pyphenomd import PhenomDWaveforms, SNRCalculation, snr\n",
    "import numpy as np\n",
    "import matplotlib.pyplot as plt\n",
    "from astropy.io import ascii\n",
    "from scipy import interpolate\n",
    "%matplotlib inline"
   ]
  },
  {
   "cell_type": "markdown",
   "metadata": {},
   "source": [
    "This guide shows the usage of the two classes with this python script, PhenomDWaveforms and SNRCalculation. These are both used in generate_contour_data.py. The final portion of this notebook will detail the use of the snr functino also included in pyphenomd. This is not used in generate_contour_data.py, but it does provide a handy way to calculate the signal-to-noise ratio (SNR) of a binary by inputing its parameters. For specific inputs and outputs of these classes and functions, use the python function help(). \n",
    "\n",
    "For usage of these codes, please cite the paper for BOWIE, (arXiv:*****). This code is shared under the GNU Public License. \n",
    "\n",
    "If you use PhenomDWaveforms or snr function, please cite Husa et al 2016 (arXiv:1508.07250), Khan et al 2016 (arXiv:1508.07253)."
   ]
  },
  {
   "cell_type": "markdown",
   "metadata": {},
   "source": [
    "## PhenomDWaveforms"
   ]
  },
  {
   "cell_type": "markdown",
   "metadata": {},
   "source": [
    "PhenomDWaveforms takes binary parameter inputs of either scalar value or 1D arrays. It outputs frequency domain waveforms produced by phenomD (See Husa et al 2016 (arXiv:1508.07250) and Khan et al 2016 (arXiv:1508.07253)). In its current state, it returns the amplitude and not the phase. Its returns are frequencies and charactersitic strain amplitudes, as well as the merger frequency and peak frequency. The merger frequency separates the inspiral phase from teh merger phase, and the peak frequency separates merger from ringdown (see paper describing BOWIE for details, arXiv: *********).\n",
    "\n",
    "What follows is a few examples using this class."
   ]
  },
  {
   "cell_type": "markdown",
   "metadata": {},
   "source": [
    "### Array Input on all Parameters"
   ]
  },
  {
   "cell_type": "code",
   "execution_count": 2,
   "metadata": {
    "collapsed": false
   },
   "outputs": [
    {
     "name": "stdout",
     "output_type": "stream",
     "text": [
      "Frequencies -> [[  1.24929558e-02   1.24933526e-02   1.24937493e-02 ...,   1.62033821e-02\n",
      "    1.62038966e-02   1.62044112e-02]\n",
      " [  3.28623112e-04   3.28888755e-04   3.29154614e-04 ...,   2.45694071e-01\n",
      "    2.45892679e-01   2.46091447e-01]\n",
      " [  6.74192289e-07   6.74414715e-07   6.74637214e-07 ...,   1.00441360e-05\n",
      "    1.00474497e-05   1.00507645e-05]] \n",
      "\n",
      "Characteristic Strain Amplitude -> [[  5.32736274e-21   5.32733444e-21   5.32730613e-21 ...,   5.10044737e-21\n",
      "    5.10042025e-21   5.10039313e-21]\n",
      " [  6.45853116e-19   6.45762864e-19   6.45672622e-19 ...,   5.66131204e-24\n",
      "    5.59767411e-24   5.53472122e-24]\n",
      " [  1.06376528e-16   1.06291469e-16   1.06206443e-16 ...,   2.05295966e-21\n",
      "    2.04621827e-21   2.03949758e-21]] \n",
      "\n",
      "Merger Frequencies -> [  3.63402867e+01   2.66495436e-02   1.08840958e-06] \n",
      "\n",
      "Peak Frequencies -> [  1.02612958e+02   8.69314997e-02   2.10876065e-06] \n",
      "\n"
     ]
    },
    {
     "data": {
      "text/plain": [
       "<matplotlib.legend.Legend at 0x1818f88978>"
      ]
     },
     "execution_count": 2,
     "metadata": {},
     "output_type": "execute_result"
    },
    {
     "data": {
      "image/png": "[encoded data removed]",
      "text/plain": [
       "<matplotlib.figure.Figure at 0x107641ac8>"
      ]
     },
     "metadata": {},
     "output_type": "display_data"
    }
   ],
   "source": [
    "#masses\n",
    "m1 =np.array([1e1, 1e5, 1e9])\n",
    "m2 = np.array([1e2, 1e4, 1e7])\n",
    "\n",
    "#spins\n",
    "chi1 = np.array([0.3, 0.5, -0.8])\n",
    "chi2 = np.array([0.2, 0.99, -0.9])\n",
    "\n",
    "#redshift\n",
    "z = np.array([0.1, 0.5, 3.0])\n",
    "\n",
    "#start times\n",
    "st = np.array([10.0, 1.0, 8.0])\n",
    "\n",
    "#end times\n",
    "et = np.array([5.0, 0.0, 0.0])\n",
    "\n",
    "wave = PhenomDWaveforms(m1, m2, chi1, chi2, z, st, et)\n",
    "\n",
    "## Produce Waveforms ##\n",
    "wave.create_waveforms()\n",
    "\n",
    "## Print Waveforms ##\n",
    "print('Frequencies ->', wave.freqs, '\\n')\n",
    "print('Characteristic Strain Amplitude ->', wave.amplitude, '\\n')\n",
    "print('Merger Frequencies ->', wave.fmrg, '\\n')\n",
    "print('Peak Frequencies ->', wave.fpeak, '\\n')\n",
    "\n",
    "for i in range(len(wave.freqs)):\n",
    "    plt.loglog(wave.freqs[i], wave.amplitude[i], label=r'Binary %i'%(i+1))\n",
    "    for f in [wave.fmrg[i], wave.fpeak[i]]:\n",
    "        if np.searchsorted(wave.freqs[i], f) < len(wave.freqs[i]):\n",
    "            plt.scatter(f, wave.amplitude[i][np.searchsorted(wave.freqs[i], f)], color='k')\n",
    "plt.xlim(1e-7, 1e0)\n",
    "plt.legend(loc = 'lower center')"
   ]
  },
  {
   "cell_type": "markdown",
   "metadata": {},
   "source": [
    "### Scalar input for start and end Times, as well as luminosity distance as input rather than redshift. "
   ]
  },
  {
   "cell_type": "code",
   "execution_count": 3,
   "metadata": {
    "collapsed": false
   },
   "outputs": [
    {
     "name": "stdout",
     "output_type": "stream",
     "text": [
      "Frequencies -> [[  1.32407967e-02   1.32573493e-02   1.32739226e-02 ...,   3.67387264e+02\n",
      "    3.67846543e+02   3.68306397e+02]\n",
      " [  1.58691171e-04   1.58837925e-04   1.58984814e-04 ...,   3.07565497e-01\n",
      "    3.07849926e-01   3.08134618e-01]\n",
      " [  3.47136584e-07   3.47238382e-07   3.47340209e-07 ...,   3.83063344e-06\n",
      "    3.83175677e-06   3.83288043e-06]] \n",
      "\n",
      "Characteristic Strain Amplitude -> [[  2.32079623e-19   2.32031118e-19   2.31982623e-19 ...,   1.26419911e-24\n",
      "    1.24493701e-24   1.22595389e-24]\n",
      " [  1.77230206e-18   1.77202345e-18   1.77174488e-18 ...,   1.32379996e-23\n",
      "    1.30679275e-23   1.28999479e-23]\n",
      " [  3.53864001e-17   3.53668679e-17   3.53473683e-17 ...,   1.40076141e-21\n",
      "    1.39667191e-21   1.39259357e-21]] \n",
      "\n",
      "Merger Frequencies -> [  3.98843499e+01   3.33682744e-02   4.15067307e-07] \n",
      "\n",
      "Peak Frequencies -> [  1.12620221e+02   1.08848173e-01   8.04180359e-07] \n",
      "\n"
     ]
    },
    {
     "data": {
      "text/plain": [
       "<matplotlib.legend.Legend at 0x181a056940>"
      ]
     },
     "execution_count": 3,
     "metadata": {},
     "output_type": "execute_result"
    },
    {
     "data": {
      "image/png": "[encoded data removed]",
      "text/plain": [
       "<matplotlib.figure.Figure at 0x18188c5d30>"
      ]
     },
     "metadata": {},
     "output_type": "display_data"
    }
   ],
   "source": [
    "#start times\n",
    "st = 10.0\n",
    "\n",
    "#end times\n",
    "et = 0.0\n",
    "\n",
    "#luminosity distance (Mpc)\n",
    "lum_dis = np.array([1e1, 1e3, 1e5])\n",
    "\n",
    "wave = PhenomDWaveforms(m1, m2, chi1, chi2, lum_dis, st, et, dist_type='luminosity_distance')\n",
    "\n",
    "## Produce Waveforms ##\n",
    "wave.create_waveforms()\n",
    "\n",
    "## Print Waveforms ##\n",
    "print('Frequencies ->', wave.freqs, '\\n')\n",
    "print('Characteristic Strain Amplitude ->', wave.amplitude, '\\n')\n",
    "print('Merger Frequencies ->', wave.fmrg, '\\n')\n",
    "print('Peak Frequencies ->', wave.fpeak, '\\n')\n",
    "for i in range(len(wave.freqs)):\n",
    "    plt.loglog(wave.freqs[i], wave.amplitude[i], label=r'Binary %i'%(i+1))\n",
    "    for f in [wave.fmrg[i], wave.fpeak[i]]:\n",
    "        if np.searchsorted(wave.freqs[i], f) < len(wave.freqs[i]):\n",
    "            plt.scatter(f, wave.amplitude[i][np.searchsorted(wave.freqs[i], f)], color='k')\n",
    "plt.xlim(1e-7, 1e3)\n",
    "plt.legend(loc = 'lower center')"
   ]
  },
  {
   "cell_type": "markdown",
   "metadata": {},
   "source": [
    "### All scalar inputs and comoving distance as distance measure. Also, change number of frequency points.  "
   ]
  },
  {
   "cell_type": "code",
   "execution_count": 4,
   "metadata": {
    "collapsed": false
   },
   "outputs": [
    {
     "name": "stdout",
     "output_type": "stream",
     "text": [
      "Frequencies -> [  3.10285378e-03   3.10462732e-03   3.10640187e-03 ...,   3.60525927e+01\n",
      "   3.60731997e+01   3.60938185e+01] \n",
      "\n",
      "Characteristic Strain Amplitude -> [  2.00114629e-19   2.00095455e-19   2.00076283e-19 ...,   9.83896063e-25\n",
      "   9.72772630e-25   9.61771894e-25] \n",
      "\n",
      "Merger Frequencies -> 3.90864372965 \n",
      "\n",
      "Peak Frequencies -> 18.2324891215 \n",
      "\n"
     ]
    },
    {
     "data": {
      "image/png": "[encoded data removed]",
      "text/plain": [
       "<matplotlib.figure.Figure at 0x181b9b63c8>"
      ]
     },
     "metadata": {},
     "output_type": "display_data"
    }
   ],
   "source": [
    "m1, m2, chi1, chi2, com_dist, st, et = 1e2,1e3,0.99,0.9, 1e2, 10.0, 0.0\n",
    "\n",
    "wave = PhenomDWaveforms(m1, m2, chi1, chi2, com_dist, st, et, dist_type='comoving_distance', num_points=int(2**14))\n",
    "\n",
    "## Produce Waveforms ##\n",
    "wave.create_waveforms()\n",
    "\n",
    "## Print Waveforms ##\n",
    "print('Frequencies ->', wave.freqs, '\\n')\n",
    "print('Characteristic Strain Amplitude ->', wave.amplitude, '\\n')\n",
    "print('Merger Frequencies ->', wave.fmrg, '\\n')\n",
    "print('Peak Frequencies ->', wave.fpeak, '\\n')\n",
    "\n",
    "plt.loglog(wave.freqs, wave.amplitude)\n",
    "for f in [wave.fmrg, wave.fpeak]:\n",
    "    if np.searchsorted(wave.freqs, f) < len(wave.freqs):\n",
    "        plt.scatter(f, wave.amplitude[np.searchsorted(wave.freqs, f)], color='k')\n"
   ]
  },
  {
   "cell_type": "markdown",
   "metadata": {},
   "source": [
    "## SNRCalculation"
   ]
  },
  {
   "cell_type": "markdown",
   "metadata": {},
   "source": [
    "SNRCalculation takes waveform frequencies and amplitudes, merger frequencies, peak frequencies, and noise curve values at the waveform frequencies. It returns SNR values for each phase of coalescence as a attribute of type dict.  "
   ]
  },
  {
   "cell_type": "code",
   "execution_count": 5,
   "metadata": {
    "collapsed": false
   },
   "outputs": [
    {
     "name": "stdout",
     "output_type": "stream",
     "text": [
      "all [  1.92715867e+00   5.46387909e+02   5.73440491e-06] \n",
      "\n",
      "ins [  1.92715867e+00   5.43985213e+02   4.62706210e-47] \n",
      "\n",
      "mrg [  0.00000000e+00   5.07264110e+01   3.99152943e-47] \n",
      "\n",
      "rd [  0.00000000e+00   6.83126134e+00   5.73440491e-06] \n",
      "\n"
     ]
    }
   ],
   "source": [
    "## Create Waveforms First ##\n",
    "\n",
    "#masses\n",
    "m1 =np.array([1e1, 1e5, 1e9])\n",
    "m2 = np.array([1e2, 1e4, 1e7])\n",
    "\n",
    "#spins\n",
    "chi1 = np.array([0.3, 0.5, -0.8])\n",
    "chi2 = np.array([0.2, 0.99, -0.9])\n",
    "\n",
    "#redshift\n",
    "z = np.array([0.1, 0.5, 3.0])\n",
    "\n",
    "#start times\n",
    "st = np.array([10.0, 1.0, 8.0])\n",
    "\n",
    "#end times\n",
    "et = np.array([5.0, 0.0, 0.0])\n",
    "\n",
    "wave = PhenomDWaveforms(m1, m2, chi1, chi2, z, st, et)\n",
    "wave = PhenomDWaveforms(m1, m2, chi1, chi2, z, st, et)\n",
    "wave.create_waveforms()\n",
    "\n",
    "#use proposed LISA\n",
    "ASD_data = ascii.read('noise_curves/' + 'PL' + '.txt')\n",
    "\n",
    "f_n = ASD_data['f']\n",
    "ASD = ASD_data['ASD']\n",
    "\n",
    "#convert noise curve to characteristic strain\n",
    "hn = ASD*np.sqrt(f_n)\n",
    "\n",
    "#interpolate noise curve\n",
    "noise_interp = interpolate.interp1d(f_n, hn, bounds_error=False, fill_value=1e30)\n",
    "\n",
    "hn_vals = noise_interp(wave.freqs)\n",
    "\n",
    "snr_out = SNRCalculation(wave.freqs, wave.amplitude, hn_vals, wave.fmrg, wave.fpeak, prefactor=1)\n",
    "\n",
    "for key in ['all', 'ins', 'mrg', 'rd']:\n",
    "    print(key, snr_out.snr_out_dict[key], '\\n')"
   ]
  },
  {
   "cell_type": "markdown",
   "metadata": {},
   "source": [
    "# snr function"
   ]
  },
  {
   "cell_type": "markdown",
   "metadata": {},
   "source": [
    "The snr function is provided as a handy way to combine PhenomDWaveforms and SNRCalculation classes. The input is binary parameters and a sensitivity curve (a default is set to Proposed LISA). If wd_noise is True, the Hils-Bender approximation is used. It outputs the snr for a certain phase or all phases."
   ]
  },
  {
   "cell_type": "code",
   "execution_count": 6,
   "metadata": {
    "collapsed": false
   },
   "outputs": [
    {
     "name": "stdout",
     "output_type": "stream",
     "text": [
      "[  1.92715867e+00   5.46387909e+02   5.73440491e-06]\n"
     ]
    }
   ],
   "source": [
    "#masses\n",
    "m1 =np.array([1e1, 1e5, 1e9])\n",
    "m2 = np.array([1e2, 1e4, 1e7])\n",
    "\n",
    "#spins\n",
    "chi1 = np.array([0.3, 0.5, -0.8])\n",
    "chi2 = np.array([0.2, 0.99, -0.9])\n",
    "\n",
    "#redshift\n",
    "z = np.array([0.1, 0.5, 3.0])\n",
    "\n",
    "#start times\n",
    "st = np.array([10.0, 1.0, 8.0])\n",
    "\n",
    "#end times\n",
    "et = np.array([5.0, 0.0, 0.0])\n",
    "\n",
    "out = snr(m1, m2, chi1, chi2, z, \n",
    "    st, et, sensitivity_curve='PL', \n",
    "    wd_noise=False, phase='all', prefactor=1.0, \n",
    "    dist_type='redshift', num_points=8192)\n",
    "\n",
    "print(out)"
   ]
  }
 ],
 "metadata": {
  "anaconda-cloud": {},
  "kernelspec": {
   "display_name": "Python [anaconda3]",
   "language": "python",
   "name": "Python [anaconda3]"
  },
  "language_info": {
   "codemirror_mode": {
    "name": "ipython",
    "version": 3
   },
   "file_extension": ".py",
   "mimetype": "text/x-python",
   "name": "python",
   "nbconvert_exporter": "python",
   "pygments_lexer": "ipython3",
   "version": "3.5.2"
  }
 },
 "nbformat": 4,
 "nbformat_minor": 0
}
