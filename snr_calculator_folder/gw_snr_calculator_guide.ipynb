{
 "cells": [
  {
   "cell_type": "markdown",
   "metadata": {},
   "source": [
    "# Guide to phenomd waveform creation and snr calculation"
   ]
  },
  {
   "cell_type": "markdown",
   "metadata": {},
   "source": [
    "This guide shows how to create waveforms with the ``PhenomDWaveforms`` and ``EccentricBinaries`` classes from ``gwsnrcalc.utils.waveforms``; perform snr calculations with ``snr`` from ``gwsnrcalc.gw_snr_calculator``; and read noise curves with ``read_noise_curve`` from ``gwsnrcalc.utils.readnoisecurves``. The snr calculator has the option of generating large amounts of snrs in parallel across many sensitivity curves if desired.\n",
    "\n",
    "These modules are part of the ``gwsnrcalc`` package. This package also includes the grid generation modules used in BOWIE. These are not detailed here. They are detailed in the notebooks at https://github.com/mikekatz04/BOWIE/tree/master/notebooks. \n",
    "\n",
    "For general documentation related to ``gwsnrcalc``, see https://mikekatz04.github.io/BOWIE/gwsnrcalc.html.\n",
    "\n",
    "For usage of these codes, please cite the paper for BOWIE, (arXiv:1807.02511). This code is shared under the GNU Public License. \n",
    "\n",
    "If you use PhenomDWaveforms, please cite Husa et al 2016 (arXiv:1508.07250), Khan et al 2016 (arXiv:1508.07253)."
   ]
  },
  {
   "cell_type": "code",
   "execution_count": 1,
   "metadata": {},
   "outputs": [],
   "source": [
    "import os\n",
    "os.chdir('/Users/michaelkatz/Documents/Research/PythonCodes/BOWIE_analysis/snr_calculator_folder/')\n",
    "from gwsnrcalc.utils.waveforms import PhenomDWaveforms\n",
    "from gwsnrcalc.utils.waveforms import EccentricBinaries\n",
    "from gwsnrcalc.gw_snr_calculator import snr\n",
    "from gwsnrcalc.utils.readnoisecurves import read_noise_curve, show_available_noise_curves\n",
    "import numpy as np\n",
    "import matplotlib.pyplot as plt\n",
    "from astropy.io import ascii\n",
    "from scipy import interpolate\n",
    "%matplotlib inline"
   ]
  },
  {
   "cell_type": "markdown",
   "metadata": {},
   "source": [
    "## PhenomDWaveforms"
   ]
  },
  {
   "cell_type": "markdown",
   "metadata": {},
   "source": [
    "PhenomDWaveforms takes binary parameter inputs of either scalar value or 1D arrays. It outputs frequency domain waveforms produced by phenomD (See Husa et al 2016 (arXiv:1508.07250) and Khan et al 2016 (arXiv:1508.07253)). In its current state, it returns the characteristic strain and not the phase. Its returns are frequencies and characteristic strain amplitudes, as well as the merger frequency and peak frequency. The merger frequency separates the inspiral phase from the merger phase, and the peak frequency separates merger from ringdown (see paper describing BOWIE for details, arXiv: arXiv:1807.02511) and the phenomd papers for more information.\n",
    "\n",
    "What follows is a few examples using this class. For direct access to PhenomDWaveforms documentation, see https://mikekatz04.github.io/BOWIE/gwsnrcalc.html#module-gwsnrcalc.utils.pyphenomd."
   ]
  },
  {
   "cell_type": "markdown",
   "metadata": {},
   "source": [
    "### Array Input on all Parameters"
   ]
  },
  {
   "cell_type": "code",
   "execution_count": 4,
   "metadata": {},
   "outputs": [
    {
     "name": "stdout",
     "output_type": "stream",
     "text": [
      "Frequencies -> [[1.24929558e-02 1.24933526e-02 1.24937493e-02 ... 1.62033821e-02\n",
      "  1.62038966e-02 1.62044112e-02]\n",
      " [3.28623112e-04 3.28888755e-04 3.29154614e-04 ... 2.45694071e-01\n",
      "  2.45892679e-01 2.46091447e-01]\n",
      " [6.74192289e-07 6.74414715e-07 6.74637214e-07 ... 1.00441360e-05\n",
      "  1.00474497e-05 1.00507645e-05]] \n",
      "\n",
      "Characteristic Strain hc -> [[5.32736274e-21 5.32733444e-21 5.32730613e-21 ... 5.10044737e-21\n",
      "  5.10042025e-21 5.10039313e-21]\n",
      " [6.45853116e-19 6.45762864e-19 6.45672622e-19 ... 5.66131204e-24\n",
      "  5.59767411e-24 5.53472122e-24]\n",
      " [1.06376528e-16 1.06291469e-16 1.06206443e-16 ... 2.05295966e-21\n",
      "  2.04621827e-21 2.03949758e-21]] \n",
      "\n",
      "Merger Frequencies -> [3.63402867e+01 2.66495436e-02 1.08840958e-06] \n",
      "\n",
      "Peak Frequencies -> [1.02612958e+02 8.69314997e-02 2.10876065e-06] \n",
      "\n"
     ]
    },
    {
     "data": {
      "text/plain": [
       "<matplotlib.legend.Legend at 0x11c00e320>"
      ]
     },
     "execution_count": 4,
     "metadata": {},
     "output_type": "execute_result"
    },
    {
     "data": {
      "image/png": "[encoded data removed]",
      "text/plain": [
       "<Figure size 432x288 with 1 Axes>"
      ]
     },
     "metadata": {},
     "output_type": "display_data"
    }
   ],
   "source": [
    "# initialize waveform generator\n",
    "phenomdwave = PhenomDWaveforms()\n",
    "\n",
    "#masses\n",
    "m1 =np.array([1e1, 1e5, 1e9])\n",
    "m2 = np.array([1e2, 1e4, 1e7])\n",
    "\n",
    "#spins\n",
    "chi1 = np.array([0.3, 0.5, -0.8])\n",
    "chi2 = np.array([0.2, 0.99, -0.9])\n",
    "\n",
    "#redshift\n",
    "z = np.array([0.1, 0.5, 3.0])\n",
    "\n",
    "#start times\n",
    "st = np.array([10.0, 1.0, 8.0])\n",
    "\n",
    "#end times\n",
    "et = np.array([5.0, 0.0, 0.0])\n",
    "\n",
    "## Produce Waveforms ##\n",
    "wave = phenomdwave(m1, m2, chi1, chi2, z, st, et)\n",
    "\n",
    "## Print Waveforms ##\n",
    "print('Frequencies ->', wave.freqs, '\\n')\n",
    "print('Characteristic Strain hc ->', wave.hc, '\\n')\n",
    "print('Merger Frequencies ->', wave.fmrg, '\\n')\n",
    "print('Peak Frequencies ->', wave.fpeak, '\\n')\n",
    "\n",
    "for i in range(len(wave.freqs)):\n",
    "    plt.loglog(wave.freqs[i], wave.hc[i], label=r'Binary %i'%(i+1))\n",
    "    for f in [wave.fmrg[i], wave.fpeak[i]]:\n",
    "        if np.searchsorted(wave.freqs[i], f) < len(wave.freqs[i]):\n",
    "            plt.scatter(f, wave.hc[i][np.searchsorted(wave.freqs[i], f)], color='k')\n",
    "plt.xlim(1e-7, 1e0)\n",
    "plt.legend(loc = 'lower center')"
   ]
  },
  {
   "cell_type": "markdown",
   "metadata": {},
   "source": [
    "### Scalar input for start and end Times, as well as luminosity distance as input rather than redshift. "
   ]
  },
  {
   "cell_type": "code",
   "execution_count": 5,
   "metadata": {},
   "outputs": [
    {
     "name": "stdout",
     "output_type": "stream",
     "text": [
      "Frequencies -> [[1.32407967e-02 1.32573493e-02 1.32739226e-02 ... 3.67387264e+02\n",
      "  3.67846543e+02 3.68306397e+02]\n",
      " [1.58691171e-04 1.58837925e-04 1.58984814e-04 ... 3.07565497e-01\n",
      "  3.07849926e-01 3.08134618e-01]\n",
      " [3.47136584e-07 3.47238382e-07 3.47340209e-07 ... 3.83063344e-06\n",
      "  3.83175677e-06 3.83288043e-06]] \n",
      "\n",
      "Characteristic Strain hc -> [[2.32079623e-19 2.32031118e-19 2.31982623e-19 ... 1.26419911e-24\n",
      "  1.24493701e-24 1.22595389e-24]\n",
      " [1.77230206e-18 1.77202345e-18 1.77174488e-18 ... 1.32379996e-23\n",
      "  1.30679275e-23 1.28999479e-23]\n",
      " [3.53864001e-17 3.53668679e-17 3.53473683e-17 ... 1.40076141e-21\n",
      "  1.39667191e-21 1.39259357e-21]] \n",
      "\n",
      "Merger Frequencies -> [3.98843499e+01 3.33682744e-02 4.15067307e-07] \n",
      "\n",
      "Peak Frequencies -> [1.12620221e+02 1.08848173e-01 8.04180359e-07] \n",
      "\n"
     ]
    },
    {
     "data": {
      "text/plain": [
       "<matplotlib.legend.Legend at 0x11c46cc88>"
      ]
     },
     "execution_count": 5,
     "metadata": {},
     "output_type": "execute_result"
    },
    {
     "data": {
      "image/png": "[encoded data removed]",
      "text/plain": [
       "<Figure size 432x288 with 1 Axes>"
      ]
     },
     "metadata": {},
     "output_type": "display_data"
    }
   ],
   "source": [
    "# change generator for luminosity distance\n",
    "phenomdwave = PhenomDWaveforms(dist_type='luminosity_distance')\n",
    "\n",
    "#start times\n",
    "st = 10.0\n",
    "\n",
    "#end times\n",
    "et = 0.0\n",
    "\n",
    "#luminosity distance (Mpc)\n",
    "lum_dis = np.array([1e1, 1e3, 1e5])\n",
    "\n",
    "## Produce Waveforms ##\n",
    "wave = phenomdwave(m1, m2, chi1, chi2, lum_dis, st, et)\n",
    "\n",
    "\n",
    "\n",
    "## Print Waveforms ##\n",
    "print('Frequencies ->', wave.freqs, '\\n')\n",
    "print('Characteristic Strain hc ->', wave.hc, '\\n')\n",
    "print('Merger Frequencies ->', wave.fmrg, '\\n')\n",
    "print('Peak Frequencies ->', wave.fpeak, '\\n')\n",
    "for i in range(len(wave.freqs)):\n",
    "    plt.loglog(wave.freqs[i], wave.hc[i], label=r'Binary %i'%(i+1))\n",
    "    for f in [wave.fmrg[i], wave.fpeak[i]]:\n",
    "        if np.searchsorted(wave.freqs[i], f) < len(wave.freqs[i]):\n",
    "            plt.scatter(f, wave.hc[i][np.searchsorted(wave.freqs[i], f)], color='k')\n",
    "plt.xlim(1e-7, 1e3)\n",
    "plt.legend(loc = 'lower center')"
   ]
  },
  {
   "cell_type": "markdown",
   "metadata": {},
   "source": [
    "### All scalar inputs and comoving distance as distance measure. Also, change number of frequency points.  "
   ]
  },
  {
   "cell_type": "code",
   "execution_count": 6,
   "metadata": {},
   "outputs": [
    {
     "name": "stdout",
     "output_type": "stream",
     "text": [
      "Frequencies -> [3.10285378e-03 3.10462732e-03 3.10640187e-03 ... 3.60525927e+01\n",
      " 3.60731997e+01 3.60938185e+01] \n",
      "\n",
      "Characteristic Strain hc -> [2.00114629e-19 2.00095455e-19 2.00076283e-19 ... 9.83896063e-25\n",
      " 9.72772630e-25 9.61771894e-25] \n",
      "\n",
      "Merger Frequencies -> 3.9086437296484253 \n",
      "\n",
      "Peak Frequencies -> 18.232489121529646 \n",
      "\n"
     ]
    },
    {
     "data": {
      "image/png": "[encoded data removed]",
      "text/plain": [
       "<Figure size 432x288 with 1 Axes>"
      ]
     },
     "metadata": {},
     "output_type": "display_data"
    }
   ],
   "source": [
    "# change dist_type and num_points\n",
    "phenomdwave = PhenomDWaveforms(dist_type='comoving_distance', num_points=int(2**14))\n",
    "\n",
    "m1, m2, chi1, chi2, com_dist, st, et = 1e2,1e3,0.99,0.9, 1e2, 10.0, 0.0\n",
    "\n",
    "wave = phenomdwave(m1, m2, chi1, chi2, com_dist, st, et)\n",
    "\n",
    "## Print Waveforms ##\n",
    "print('Frequencies ->', wave.freqs, '\\n')\n",
    "print('Characteristic Strain hc ->', wave.hc, '\\n')\n",
    "print('Merger Frequencies ->', wave.fmrg, '\\n')\n",
    "print('Peak Frequencies ->', wave.fpeak, '\\n')\n",
    "\n",
    "plt.loglog(wave.freqs, wave.hc)\n",
    "for f in [wave.fmrg, wave.fpeak]:\n",
    "    if np.searchsorted(wave.freqs, f) < len(wave.freqs):\n",
    "        plt.scatter(f, wave.hc[np.searchsorted(wave.freqs, f)], color='k')\n"
   ]
  },
  {
   "cell_type": "markdown",
   "metadata": {},
   "source": [
    "# Eccentric Waveforms"
   ]
  },
  {
   "cell_type": "markdown",
   "metadata": {},
   "source": [
    "For eccentric binaries, an eccentric waveform generator is available for inspiral calculations. It is called in much the same way as phenomd waveforms above. When calculating SNRs, the kwarg `ecc=True` must be supplied to the `snr` function. When using `gwsnrcalc.generate_contour_data`, the generator will figure out if the desired waveform is eccentric based on the input information. The waveform calculator is based on **FIND**.\n",
    "\n",
    "The kwargs necessary for waveform creator instantiantion are `dist_type`, `num_points`, `initial_cond_type`, and `n_max`. `dist_type` and `num_points` are the same as with PhenomDWaveforms. However, `num_points` is now the number of points for each mode. `initial_cond_type` indicates what is the initial quantity provided. It can be a time before merger (`initial_cond_type = time`), an initial frequency (`initial_cond_type = frequency`), or an initial separation (`initial_cond_type = separation`). `n_max` indicates the maximum number of modes to examine."
   ]
  },
  {
   "cell_type": "markdown",
   "metadata": {},
   "source": [
    "### Array of inputs.\n",
    "\n",
    "One massive black hole binary and one stellar mass at varying eccentricities and times before merger."
   ]
  },
  {
   "cell_type": "code",
   "execution_count": 47,
   "metadata": {},
   "outputs": [
    {
     "data": {
      "text/plain": [
       "Text(0.5,0,'Frequency (Hz)')"
      ]
     },
     "execution_count": 47,
     "metadata": {},
     "output_type": "execute_result"
    },
    {
     "data": {
      "image/png": "[encoded data removed]",
      "text/plain": [
       "<Figure size 432x288 with 1 Axes>"
      ]
     },
     "metadata": {},
     "output_type": "display_data"
    }
   ],
   "source": [
    "n_max = 100\n",
    "ecc_bin_wave = EccentricBinaries(dist_type='redshift', num_points=1024, initial_cond_type='time', n_max=n_max)\n",
    "\n",
    "m1 = np.array([1e6, 4e1])\n",
    "m2 = np.array([4e6, 3.5e1])\n",
    "z_or_dist = np.array([1.5, 0.01])\n",
    "initial_point = np.array([8.0, 10.0])  # years before merger\n",
    "e0 = np.array([0.9, 0.1])\n",
    "t_obs = 5.0\n",
    "\n",
    "waves = ecc_bin_wave(m1, m2, z_or_dist, initial_point, e0, t_obs)\n",
    "\n",
    "colors = ['blue', 'red']\n",
    "labels = ['MBHB', 'Stellar Mass Binary']\n",
    "for i in range(len(m1)):\n",
    "    for j in range(n_max):\n",
    "        if j == 0:\n",
    "            label = labels[i]\n",
    "        else:\n",
    "            label = None\n",
    "        plt.loglog(waves.freqs[i][j], waves.hc[i][j], color=colors[i], label=label)\n",
    "        \n",
    "f, hn = read_noise_curve('LPA', noise_type_out='char_strain')\n",
    "plt.loglog(f, hn, color='k', ls='--')\n",
    "\n",
    "\n",
    "plt.ylim(1e-23, 1e-15)\n",
    "plt.legend(loc='best')\n",
    "plt.ylabel('Characteristic Strain')\n",
    "plt.xlabel('Frequency (Hz)')"
   ]
  },
  {
   "cell_type": "markdown",
   "metadata": {},
   "source": [
    "Now do the same with luminosity distance as the distance measure and the frequency as the starting point."
   ]
  },
  {
   "cell_type": "code",
   "execution_count": 12,
   "metadata": {},
   "outputs": [
    {
     "data": {
      "text/plain": [
       "Text(0.5,0,'Frequency (Hz)')"
      ]
     },
     "execution_count": 12,
     "metadata": {},
     "output_type": "execute_result"
    },
    {
     "data": {
      "image/png": "[encoded data removed]",
      "text/plain": [
       "<Figure size 432x288 with 1 Axes>"
      ]
     },
     "metadata": {},
     "output_type": "display_data"
    }
   ],
   "source": [
    "n_max = 10\n",
    "ecc_bin_wave = EccentricBinaries(dist_type='luminosity_distance', num_points=1024, initial_cond_type='frequency', n_max=n_max)\n",
    "\n",
    "m1 = np.array([4e1, 4e1])\n",
    "m2 = np.array([3e1, 3.5e1])\n",
    "z_or_dist = np.array([500.0, 100.0])  # luminosity distance in Mpc\n",
    "initial_point = np.array([1e-2, 8e-3])  # years before merger\n",
    "e0 = np.array([0.6, 0.3])\n",
    "t_obs = 10.0\n",
    "\n",
    "waves = ecc_bin_wave(m1, m2, z_or_dist, initial_point, e0, t_obs)\n",
    "\n",
    "colors = ['blue', 'red']\n",
    "labels = ['Binary 1', 'Binary 2']\n",
    "for i in range(len(m1)):\n",
    "    for j in range(n_max):\n",
    "        if j == 0:\n",
    "            label = labels[i]\n",
    "        else:\n",
    "            label = None\n",
    "        plt.loglog(waves.freqs[i][j], waves.hc[i][j], color=colors[i], label=label)\n",
    "        \n",
    "f, hn = read_noise_curve('LPA', noise_type_out='char_strain')\n",
    "plt.loglog(f, hn, color='k', ls='--')\n",
    "\n",
    "\n",
    "plt.ylim(1e-23, 1e-18)\n",
    "plt.xlim(1e-3,1e0)\n",
    "plt.legend(loc='best')\n",
    "plt.ylabel('Characteristic Strain')\n",
    "plt.xlabel('Frequency (Hz)')"
   ]
  },
  {
   "cell_type": "markdown",
   "metadata": {},
   "source": [
    "# snr function"
   ]
  },
  {
   "cell_type": "markdown",
   "metadata": {},
   "source": [
    "The snr function is provided as a handy way to combine PhenomDWaveforms and csnr functions. The input is binary parameters and keyword arguments related to the sensitivity curves, snr calculation, and parallel generation of the process. For documentation on this function see https://mikekatz04.github.io/BOWIE/gwsnrcalc.html#module-gwsnrcalc.gw_snr_calculator. **Note**: there is a class with the name ``gwsnrcalc.gw_snr_calculator.SNR``. This is different than ``gwsnrcalc.gw_snr_calculator.snr``, which is a function. The function uses the class to run its operation."
   ]
  },
  {
   "cell_type": "code",
   "execution_count": 7,
   "metadata": {},
   "outputs": [
    {
     "name": "stdout",
     "output_type": "stream",
     "text": [
      "With WD noise: all [  1.29078513 396.22611864   1.03040305] \n",
      "\n",
      "Without WD noise: all [  1.29078513 419.58974495   1.03040305] \n",
      "\n",
      "With WD noise: ins [1.29078513e+00 3.94826925e+02 1.25535081e-46] \n",
      "\n",
      "Without WD noise: ins [1.29078513e+00 4.18268715e+02 1.25535081e-46] \n",
      "\n",
      "With WD noise: mrg [ 0.         32.96355335  0.52041204] \n",
      "\n",
      "Without WD noise: mrg [ 0.         32.96355335  0.52041204] \n",
      "\n",
      "With WD noise: rd [0.         4.49892924 0.88932657] \n",
      "\n",
      "Without WD noise: rd [0.         4.49892924 0.88932657] \n",
      "\n"
     ]
    }
   ],
   "source": [
    "#masses\n",
    "m1 =np.array([1e1, 1e5, 1e8])\n",
    "m2 = np.array([1e2, 1e4, 1e7])\n",
    "\n",
    "#spins\n",
    "chi1 = np.array([0.3, 0.5, -0.8])\n",
    "chi2 = np.array([0.2, 0.99, -0.9])\n",
    "\n",
    "#redshift\n",
    "z = np.array([0.1, 0.5, 3.0])\n",
    "\n",
    "#start times\n",
    "st = np.array([10.0, 1.0, 8.0])\n",
    "\n",
    "#end times\n",
    "et = np.array([5.0, 0.0, 0.0])\n",
    "\n",
    "snr_out = snr(m1, m2, chi1, chi2, z, st, et,\n",
    "              add_wd_noise='Both', signal_type= ['all', 'ins', 'mrg', 'rd'],\n",
    "              sensitivity_curves='LPA', prefactor=1)\n",
    "\n",
    "for key in ['all', 'ins', 'mrg', 'rd']:\n",
    "    print('With WD noise:', key, snr_out['LPA_wd_' + key], '\\n')\n",
    "    print('Without WD noise:', key, snr_out['LPA_' + key], '\\n')"
   ]
  },
  {
   "cell_type": "code",
   "execution_count": 9,
   "metadata": {},
   "outputs": [
    {
     "name": "stdout",
     "output_type": "stream",
     "text": [
      "{'LPA_all': array([1.29078513e+00, 4.19589745e+02, 7.57851636e-07])}\n"
     ]
    }
   ],
   "source": [
    "#masses\n",
    "m1 =np.array([1e1, 1e5, 1e9])\n",
    "m2 = np.array([1e2, 1e4, 1e7])\n",
    "\n",
    "#spins\n",
    "chi1 = np.array([0.3, 0.5, -0.8])\n",
    "chi2 = np.array([0.2, 0.99, -0.9])\n",
    "\n",
    "#redshift\n",
    "z = np.array([0.1, 0.5, 3.0])\n",
    "\n",
    "#start times\n",
    "st = np.array([10.0, 1.0, 8.0])\n",
    "\n",
    "#end times\n",
    "et = np.array([5.0, 0.0, 0.0])\n",
    "\n",
    "out = snr(m1, m2, chi1, chi2, z, \n",
    "    st, et, sensitivity_curve='PL', \n",
    "    add_wd_noise=False, phase='all', prefactor=1.0, \n",
    "    dist_type='redshift', num_points=8192)\n",
    "\n",
    "print(out)"
   ]
  },
  {
   "cell_type": "markdown",
   "metadata": {},
   "source": [
    "### Eccentric Binary SNR"
   ]
  },
  {
   "cell_type": "code",
   "execution_count": 53,
   "metadata": {},
   "outputs": [
    {
     "name": "stdout",
     "output_type": "stream",
     "text": [
      "With WD noise: all [1.52496462e-47 2.47662709e-49] \n",
      "\n",
      "Without WD noise: all [1.52496462e-47 2.47662709e-49] \n",
      "\n",
      "With WD noise: modes [[1.24647756e-049 1.52086264e-047 5.14906809e-049 3.87158017e-049\n",
      "  3.22137066e-049 2.80110832e-049 2.49957984e-049 2.26948240e-049\n",
      "  2.08645614e-049 1.93640257e-049 1.81048844e-049 1.70285040e-049\n",
      "  1.60942112e-049 1.52727917e-049 1.45426605e-049 1.38874925e-049\n",
      "  1.32946952e-049 1.27543910e-049 1.22587186e-049 1.18013419e-049\n",
      "  1.13770971e-049 1.09817339e-049 1.06117230e-049 1.02641104e-049\n",
      "  9.93640546e-050 9.62649481e-050 9.33257394e-050 9.05309358e-050\n",
      "  8.78671661e-050 8.53228337e-050 8.28878350e-050 8.05533287e-050\n",
      "  7.83115462e-050 7.61556344e-050 7.40795248e-050 7.20778240e-050\n",
      "  7.01457214e-050 6.82789119e-050 6.64735291e-050 6.47260898e-050\n",
      "  6.30334455e-050 6.13927416e-050 5.98013816e-050 5.82569966e-050\n",
      "  5.67574191e-050 5.53006598e-050 5.38848878e-050 5.25084129e-050\n",
      "  5.11696708e-050 4.98672094e-050 4.85996775e-050 4.73658143e-050\n",
      "  4.61644402e-050 4.49944491e-050 4.38548012e-050 4.27445167e-050\n",
      "  4.16626706e-050 4.06083871e-050 3.95808359e-050 3.85792279e-050\n",
      "  3.76028118e-050 3.66508711e-050 3.57227211e-050 3.48177066e-050\n",
      "  3.39351995e-050 3.30745971e-050 3.22353198e-050 3.14168098e-050\n",
      "  3.06185297e-050 2.98399607e-050 2.90806021e-050 2.83399695e-050\n",
      "  2.76175944e-050 2.69130228e-050 2.62258148e-050 2.55555436e-050\n",
      "  2.49017949e-050 2.42641662e-050 2.36422663e-050 2.30357149e-050\n",
      "  2.24441419e-050 2.18671870e-050 2.13044993e-050 2.07557371e-050\n",
      "  2.02205673e-050 1.96986651e-050 1.91897140e-050 1.86934050e-050\n",
      "  1.82094368e-050 1.77375153e-050 1.72773536e-050 1.68286714e-050\n",
      "  1.63911952e-050 1.59646577e-050 1.55487981e-050 1.51433616e-050\n",
      "  1.47480992e-050 1.43627678e-050 1.39871296e-050 1.36209527e-050]\n",
      " [1.20335807e-051 2.47553241e-049 7.17394854e-051 1.12481695e-051\n",
      "  1.74868680e-052 2.66696175e-053 4.00222417e-054 5.92993325e-055\n",
      "  8.69794481e-056 1.26549320e-056 1.82902470e-057 2.62894524e-058\n",
      "  3.76115184e-059 5.35960116e-060 7.61117980e-061 1.07763177e-061\n",
      "  1.52175427e-062 2.14390087e-063 3.01411816e-064 4.22964509e-065\n",
      "  5.92536153e-066 8.28821953e-067 1.15771654e-067 1.61506285e-068\n",
      "  2.25044349e-069 3.13240753e-070 4.35567352e-071 6.05105185e-072\n",
      "  8.39910826e-073 1.16489723e-073 1.61442199e-074 2.23584775e-075\n",
      "  3.09443875e-076 4.28009254e-077 5.91659232e-078 8.17432010e-079\n",
      "  1.12877208e-079 1.55792865e-080 2.14924872e-081 2.96369750e-082\n",
      "  4.08506215e-083 5.62846386e-084 7.75203482e-085 1.06729334e-085\n",
      "  1.46893051e-086 2.02103913e-087 2.77977998e-088 3.82220678e-089\n",
      "  5.25401674e-090 7.22016918e-091 9.91943120e-092 1.36242995e-092\n",
      "  1.87082813e-093 2.56832480e-094 3.52505713e-095 4.83711205e-096\n",
      "  6.63610624e-097 9.10229585e-098 1.24825144e-098 1.71147134e-099\n",
      "  2.34615333e-100 3.21562202e-101 4.40654238e-102 6.03750710e-103\n",
      "  8.27077843e-104 1.13283412e-104 1.55138484e-105 2.12426175e-106\n",
      "  2.90826304e-107 3.98105633e-108 5.44883532e-109 7.45678171e-110\n",
      "  1.02033589e-110 1.39598390e-111 1.90969778e-112 2.61214496e-113\n",
      "  3.57256104e-114 4.88554587e-115 6.68034423e-116 9.13351828e-117\n",
      "  1.24862503e-117 1.70679659e-118 2.33285833e-119 3.18825370e-120\n",
      "  4.35688693e-121 5.95332488e-122 8.13399096e-123 1.11124418e-123\n",
      "  1.51802139e-124 2.07352704e-125 2.83208151e-126 3.86782499e-127\n",
      "  5.28194241e-128 7.21251990e-129 9.84799042e-130 1.34454744e-130\n",
      "  1.83557964e-131 2.50576057e-132 3.42039115e-133 4.66855472e-134]] \n",
      "\n",
      "Without WD noise: modes [[1.24647756e-049 1.52086264e-047 5.14906809e-049 3.87158017e-049\n",
      "  3.22137066e-049 2.80110832e-049 2.49957984e-049 2.26948240e-049\n",
      "  2.08645614e-049 1.93640257e-049 1.81048844e-049 1.70285040e-049\n",
      "  1.60942112e-049 1.52727917e-049 1.45426605e-049 1.38874925e-049\n",
      "  1.32946952e-049 1.27543910e-049 1.22587186e-049 1.18013419e-049\n",
      "  1.13770971e-049 1.09817339e-049 1.06117230e-049 1.02641104e-049\n",
      "  9.93640546e-050 9.62649481e-050 9.33257394e-050 9.05309358e-050\n",
      "  8.78671661e-050 8.53228337e-050 8.28878350e-050 8.05533287e-050\n",
      "  7.83115462e-050 7.61556344e-050 7.40795248e-050 7.20778240e-050\n",
      "  7.01457214e-050 6.82789119e-050 6.64735291e-050 6.47260898e-050\n",
      "  6.30334455e-050 6.13927416e-050 5.98013816e-050 5.82569966e-050\n",
      "  5.67574191e-050 5.53006598e-050 5.38848878e-050 5.25084129e-050\n",
      "  5.11696708e-050 4.98672094e-050 4.85996775e-050 4.73658143e-050\n",
      "  4.61644402e-050 4.49944491e-050 4.38548012e-050 4.27445167e-050\n",
      "  4.16626706e-050 4.06083871e-050 3.95808359e-050 3.85792279e-050\n",
      "  3.76028118e-050 3.66508711e-050 3.57227211e-050 3.48177066e-050\n",
      "  3.39351995e-050 3.30745971e-050 3.22353198e-050 3.14168098e-050\n",
      "  3.06185297e-050 2.98399607e-050 2.90806021e-050 2.83399695e-050\n",
      "  2.76175944e-050 2.69130228e-050 2.62258148e-050 2.55555436e-050\n",
      "  2.49017949e-050 2.42641662e-050 2.36422663e-050 2.30357149e-050\n",
      "  2.24441419e-050 2.18671870e-050 2.13044993e-050 2.07557371e-050\n",
      "  2.02205673e-050 1.96986651e-050 1.91897140e-050 1.86934050e-050\n",
      "  1.82094368e-050 1.77375153e-050 1.72773536e-050 1.68286714e-050\n",
      "  1.63911952e-050 1.59646577e-050 1.55487981e-050 1.51433616e-050\n",
      "  1.47480992e-050 1.43627678e-050 1.39871296e-050 1.36209527e-050]\n",
      " [1.20335807e-051 2.47553241e-049 7.17394854e-051 1.12481695e-051\n",
      "  1.74868680e-052 2.66696175e-053 4.00222417e-054 5.92993325e-055\n",
      "  8.69794481e-056 1.26549320e-056 1.82902470e-057 2.62894524e-058\n",
      "  3.76115184e-059 5.35960116e-060 7.61117980e-061 1.07763177e-061\n",
      "  1.52175427e-062 2.14390087e-063 3.01411816e-064 4.22964509e-065\n",
      "  5.92536153e-066 8.28821953e-067 1.15771654e-067 1.61506285e-068\n",
      "  2.25044349e-069 3.13240753e-070 4.35567352e-071 6.05105185e-072\n",
      "  8.39910826e-073 1.16489723e-073 1.61442199e-074 2.23584775e-075\n",
      "  3.09443875e-076 4.28009254e-077 5.91659232e-078 8.17432010e-079\n",
      "  1.12877208e-079 1.55792865e-080 2.14924872e-081 2.96369750e-082\n",
      "  4.08506215e-083 5.62846386e-084 7.75203482e-085 1.06729334e-085\n",
      "  1.46893051e-086 2.02103913e-087 2.77977998e-088 3.82220678e-089\n",
      "  5.25401674e-090 7.22016918e-091 9.91943120e-092 1.36242995e-092\n",
      "  1.87082813e-093 2.56832480e-094 3.52505713e-095 4.83711205e-096\n",
      "  6.63610624e-097 9.10229585e-098 1.24825144e-098 1.71147134e-099\n",
      "  2.34615333e-100 3.21562202e-101 4.40654238e-102 6.03750710e-103\n",
      "  8.27077843e-104 1.13283412e-104 1.55138484e-105 2.12426175e-106\n",
      "  2.90826304e-107 3.98105633e-108 5.44883532e-109 7.45678171e-110\n",
      "  1.02033589e-110 1.39598390e-111 1.90969778e-112 2.61214496e-113\n",
      "  3.57256104e-114 4.88554587e-115 6.68034423e-116 9.13351828e-117\n",
      "  1.24862503e-117 1.70679659e-118 2.33285833e-119 3.18825370e-120\n",
      "  4.35688693e-121 5.95332488e-122 8.13399096e-123 1.11124418e-123\n",
      "  1.51802139e-124 2.07352704e-125 2.83208151e-126 3.86782499e-127\n",
      "  5.28194241e-128 7.21251990e-129 9.84799042e-130 1.34454744e-130\n",
      "  1.83557964e-131 2.50576057e-132 3.42039115e-133 4.66855472e-134]] \n",
      "\n"
     ]
    }
   ],
   "source": [
    "n_max = 100\n",
    "ecc_bin_wave = EccentricBinaries(dist_type='redshift', num_points=1024, initial_cond_type='time', n_max=n_max)\n",
    "\n",
    "m1 = np.array([1e6, 4e1])\n",
    "m2 = np.array([4e6, 3.5e1])\n",
    "z_or_dist = np.array([1.5, 0.01])\n",
    "initial_point = np.array([8.0, 10.0])  # years before merger\n",
    "e0 = np.array([0.9, 0.1])\n",
    "t_obs = 5.0\n",
    "\n",
    "snr_out = snr(m1, m2, z_or_dist, initial_point, e0, t_obs,\n",
    "              add_wd_noise='Both', signal_type= ['all', 'modes'],\n",
    "              sensitivity_curves='LPA', prefactor=1,\n",
    "              ecc=True)  # this line is important\n",
    "\n",
    "key = 'all'\n",
    "print('With WD noise:', key, snr_out['LPA_wd_' + key], '\\n')\n",
    "print('Without WD noise:', key, snr_out['LPA_' + key], '\\n')\n",
    "\n",
    "key = 'modes'\n",
    "print('With WD noise:', key, snr_out['LPA_wd_' + key], '\\n')\n",
    "print('Without WD noise:', key, snr_out['LPA_' + key], '\\n')"
   ]
  },
  {
   "cell_type": "markdown",
   "metadata": {},
   "source": [
    "# Read noise curves"
   ]
  },
  {
   "cell_type": "markdown",
   "metadata": {},
   "source": [
    "read_noise_curves.py provides an easy way to interface with the noise curves provided with the package. They are detailed in our paper mentioned above. You can choose the output type of the curve and if you want to add white dwarf noise. For further documentation, see https://mikekatz04.github.io/BOWIE/gwsnrcalc.html#module-gwsnrcalc.utils.readnoisecurves."
   ]
  },
  {
   "cell_type": "markdown",
   "metadata": {},
   "source": [
    "### Check which sensitivity curves are available."
   ]
  },
  {
   "cell_type": "code",
   "execution_count": 10,
   "metadata": {},
   "outputs": [
    {
     "data": {
      "text/plain": [
       "['PL', 'HB_wd_noise', 'CL', 'CLLF', 'PLCS', 'LPA', 'PLHB']"
      ]
     },
     "execution_count": 10,
     "metadata": {},
     "output_type": "execute_result"
    }
   ],
   "source": [
    "show_available_noise_curves()"
   ]
  },
  {
   "cell_type": "markdown",
   "metadata": {},
   "source": [
    "### Read a few of them"
   ]
  },
  {
   "cell_type": "code",
   "execution_count": 11,
   "metadata": {},
   "outputs": [
    {
     "data": {
      "text/plain": [
       "<matplotlib.legend.Legend at 0x11c2daa20>"
      ]
     },
     "execution_count": 11,
     "metadata": {},
     "output_type": "execute_result"
    },
    {
     "data": {
      "image/png": "[encoded data removed]",
      "text/plain": [
       "<Figure size 432x288 with 1 Axes>"
      ]
     },
     "metadata": {},
     "output_type": "display_data"
    }
   ],
   "source": [
    "fn, amp = read_noise_curve('PL', add_wd_noise=False, noise_type_out='ASD')\n",
    "plt.loglog(fn, amp, label='PL-ASD')\n",
    "\n",
    "fn, amp = read_noise_curve('LPA', add_wd_noise=True, noise_type_out='ASD')\n",
    "plt.loglog(fn, amp, label='LPA-ASD with GB')\n",
    "\n",
    "fn, amp = read_noise_curve('LPA', add_wd_noise=True, noise_type_out='char_strain')\n",
    "plt.loglog(fn, amp, label=r'LPA-$h_n$ with GB')\n",
    "\n",
    "plt.legend(prop={'size':12})"
   ]
  },
  {
   "cell_type": "markdown",
   "metadata": {},
   "source": [
    "### Read from a file"
   ]
  },
  {
   "cell_type": "markdown",
   "metadata": {},
   "source": [
    "To read from a file, the file must be .txt or .csv. The column with frequency values must have the label 'f'. The amplitude column must have a label equivalent to its type (i.e. 'ASD', 'PSD, or 'char_strain'). "
   ]
  },
  {
   "cell_type": "code",
   "execution_count": 12,
   "metadata": {},
   "outputs": [
    {
     "data": {
      "text/plain": [
       "<matplotlib.legend.Legend at 0x121dc0e80>"
      ]
     },
     "execution_count": 12,
     "metadata": {},
     "output_type": "execute_result"
    },
    {
     "data": {
      "image/png": "[encoded data removed]",
      "text/plain": [
       "<Figure size 432x288 with 1 Axes>"
      ]
     },
     "metadata": {},
     "output_type": "display_data"
    }
   ],
   "source": [
    "# you may need to edit the file path. This is an example.\n",
    "file_path = 'gwsnrcalc/utils/noise_curves/HB_wd_noise.txt'\n",
    "fn, amp = read_noise_curve(file_path, noise_type_in='ASD', noise_type_out='PSD')\n",
    "plt.loglog(fn, amp, label='HB White Dwarf Noise (PSD)')\n",
    "\n",
    "file_path = 'gwsnrcalc/utils/noise_curves/CLLF.txt'\n",
    "fn, amp = read_noise_curve(file_path, noise_type_in='ASD', noise_type_out='PSD')\n",
    "plt.loglog(fn, amp, label='CLLF (PSD)')\n",
    "plt.legend(prop={'size':12})"
   ]
  }
 ],
 "metadata": {
  "anaconda-cloud": {},
  "kernelspec": {
   "display_name": "Python [conda env:anaconda3]",
   "language": "python",
   "name": "conda-env-anaconda3-py"
  },
  "language_info": {
   "codemirror_mode": {
    "name": "ipython",
    "version": 3
   },
   "file_extension": ".py",
   "mimetype": "text/x-python",
   "name": "python",
   "nbconvert_exporter": "python",
   "pygments_lexer": "ipython3",
   "version": "3.5.5"
  }
 },
 "nbformat": 4,
 "nbformat_minor": 1
}
