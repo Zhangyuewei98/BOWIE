{
 "cells": [
  {
   "cell_type": "markdown",
   "metadata": {},
   "source": [
    "# Guide to phenomd waveform creation and snr calculation"
   ]
  },
  {
   "cell_type": "code",
   "execution_count": 4,
   "metadata": {},
   "outputs": [],
   "source": [
    "import os\n",
    "os.chdir('/Users/michaelkatz/Documents/Research/PythonCodes/BOWIE_analysis/snr_calculator_folder/')\n",
    "from gwsnrcalc.utils.pyphenomd import PhenomDWaveforms\n",
    "from gwsnrcalc.gw_snr_calculator import snr\n",
    "from gwsnrcalc.utils.readnoisecurves import read_noise_curve, show_available_noise_curves\n",
    "import numpy as np\n",
    "import matplotlib.pyplot as plt\n",
    "from astropy.io import ascii\n",
    "from scipy import interpolate\n",
    "%matplotlib inline"
   ]
  },
  {
   "cell_type": "markdown",
   "metadata": {},
   "source": [
    "This guide shows how to create waveforms with the ``PhenomDWaveforms`` class from ``gwsnrcalc.utils.pyphenomd``; perform snr calculations with ``snr`` from ``gwsnrcalc.gw_snr_calculator``; and read noise curves with ``read_noise_curve`` from ``gwsnrcalc.utils.readnoisecurves``. The snr calculator has the option of generating large amounts of snrs in parallel across many sensitivity curves if desired.\n",
    "\n",
    "These modules are part of the ``gwsnrcalc`` package. This package also includes the grid generation modules used in BOWIE. These are not detailed here. They are detailed in the notebooks at https://github.com/mikekatz04/BOWIE/tree/master/notebooks. \n",
    "\n",
    "For general documentation related to ``gwsnrcalc``, see https://mikekatz04.github.io/BOWIE/gwsnrcalc.html.\n",
    "\n",
    "For usage of these codes, please cite the paper for BOWIE, (arXiv:1807.02511). This code is shared under the GNU Public License. \n",
    "\n",
    "If you use PhenomDWaveforms or snr function, please cite Husa et al 2016 (arXiv:1508.07250), Khan et al 2016 (arXiv:1508.07253)."
   ]
  },
  {
   "cell_type": "markdown",
   "metadata": {},
   "source": [
    "## PhenomDWaveforms"
   ]
  },
  {
   "cell_type": "markdown",
   "metadata": {},
   "source": [
    "PhenomDWaveforms takes binary parameter inputs of either scalar value or 1D arrays. It outputs frequency domain waveforms produced by phenomD (See Husa et al 2016 (arXiv:1508.07250) and Khan et al 2016 (arXiv:1508.07253)). In its current state, it returns the characteristic strain and not the phase. Its returns are frequencies and characteristic strain amplitudes, as well as the merger frequency and peak frequency. The merger frequency separates the inspiral phase from the merger phase, and the peak frequency separates merger from ringdown (see paper describing BOWIE for details, arXiv: arXiv:1807.02511) and the phenomd papers for more information.\n",
    "\n",
    "What follows is a few examples using this class. For direct access to PhenomDWaveforms documentation, see https://mikekatz04.github.io/BOWIE/gwsnrcalc.html#module-gwsnrcalc.utils.pyphenomd."
   ]
  },
  {
   "cell_type": "markdown",
   "metadata": {},
   "source": [
    "### Array Input on all Parameters"
   ]
  },
  {
   "cell_type": "code",
   "execution_count": 6,
   "metadata": {},
   "outputs": [
    {
     "name": "stdout",
     "output_type": "stream",
     "text": [
      "Frequencies -> [[1.24929558e-02 1.24933526e-02 1.24937493e-02 ... 1.62033821e-02\n",
      "  1.62038966e-02 1.62044112e-02]\n",
      " [3.28623112e-04 3.28888755e-04 3.29154614e-04 ... 2.45694071e-01\n",
      "  2.45892679e-01 2.46091447e-01]\n",
      " [6.74192289e-07 6.74414715e-07 6.74637214e-07 ... 1.00441360e-05\n",
      "  1.00474497e-05 1.00507645e-05]] \n",
      "\n",
      "Characteristic Strain hc -> [[5.32736274e-21 5.32733444e-21 5.32730613e-21 ... 5.10044737e-21\n",
      "  5.10042025e-21 5.10039313e-21]\n",
      " [6.45853116e-19 6.45762864e-19 6.45672622e-19 ... 5.66131204e-24\n",
      "  5.59767411e-24 5.53472122e-24]\n",
      " [1.06376528e-16 1.06291469e-16 1.06206443e-16 ... 2.05295966e-21\n",
      "  2.04621827e-21 2.03949758e-21]] \n",
      "\n",
      "Merger Frequencies -> [3.63402867e+01 2.66495436e-02 1.08840958e-06] \n",
      "\n",
      "Peak Frequencies -> [1.02612958e+02 8.69314997e-02 2.10876065e-06] \n",
      "\n"
     ]
    },
    {
     "data": {
      "text/plain": [
       "<matplotlib.legend.Legend at 0x113b42908>"
      ]
     },
     "execution_count": 6,
     "metadata": {},
     "output_type": "execute_result"
    },
    {
     "data": {
      "image/png": "[encoded data removed]",
      "text/plain": [
       "<Figure size 432x288 with 1 Axes>"
      ]
     },
     "metadata": {},
     "output_type": "display_data"
    }
   ],
   "source": [
    "# initialize waveform generator\n",
    "phenomdwave = PhenomDWaveforms()\n",
    "\n",
    "#masses\n",
    "m1 =np.array([1e1, 1e5, 1e9])\n",
    "m2 = np.array([1e2, 1e4, 1e7])\n",
    "\n",
    "#spins\n",
    "chi1 = np.array([0.3, 0.5, -0.8])\n",
    "chi2 = np.array([0.2, 0.99, -0.9])\n",
    "\n",
    "#redshift\n",
    "z = np.array([0.1, 0.5, 3.0])\n",
    "\n",
    "#start times\n",
    "st = np.array([10.0, 1.0, 8.0])\n",
    "\n",
    "#end times\n",
    "et = np.array([5.0, 0.0, 0.0])\n",
    "\n",
    "## Produce Waveforms ##\n",
    "wave = phenomdwave(m1, m2, chi1, chi2, z, st, et)\n",
    "\n",
    "## Print Waveforms ##\n",
    "print('Frequencies ->', wave.freqs, '\\n')\n",
    "print('Characteristic Strain hc ->', wave.hc, '\\n')\n",
    "print('Merger Frequencies ->', wave.fmrg, '\\n')\n",
    "print('Peak Frequencies ->', wave.fpeak, '\\n')\n",
    "\n",
    "for i in range(len(wave.freqs)):\n",
    "    plt.loglog(wave.freqs[i], wave.hc[i], label=r'Binary %i'%(i+1))\n",
    "    for f in [wave.fmrg[i], wave.fpeak[i]]:\n",
    "        if np.searchsorted(wave.freqs[i], f) < len(wave.freqs[i]):\n",
    "            plt.scatter(f, wave.hc[i][np.searchsorted(wave.freqs[i], f)], color='k')\n",
    "plt.xlim(1e-7, 1e0)\n",
    "plt.legend(loc = 'lower center')"
   ]
  },
  {
   "cell_type": "markdown",
   "metadata": {},
   "source": [
    "### Scalar input for start and end Times, as well as luminosity distance as input rather than redshift. "
   ]
  },
  {
   "cell_type": "code",
   "execution_count": 8,
   "metadata": {},
   "outputs": [
    {
     "name": "stdout",
     "output_type": "stream",
     "text": [
      "Frequencies -> [[1.32407967e-02 1.32573493e-02 1.32739226e-02 ... 3.67387264e+02\n",
      "  3.67846543e+02 3.68306397e+02]\n",
      " [1.58691171e-04 1.58837925e-04 1.58984814e-04 ... 3.07565497e-01\n",
      "  3.07849926e-01 3.08134618e-01]\n",
      " [3.47136584e-07 3.47238382e-07 3.47340209e-07 ... 3.83063344e-06\n",
      "  3.83175677e-06 3.83288043e-06]] \n",
      "\n",
      "Characteristic Strain hc -> [[2.32079623e-19 2.32031118e-19 2.31982623e-19 ... 1.26419911e-24\n",
      "  1.24493701e-24 1.22595389e-24]\n",
      " [1.77230206e-18 1.77202345e-18 1.77174488e-18 ... 1.32379996e-23\n",
      "  1.30679275e-23 1.28999479e-23]\n",
      " [3.53864001e-17 3.53668679e-17 3.53473683e-17 ... 1.40076141e-21\n",
      "  1.39667191e-21 1.39259357e-21]] \n",
      "\n",
      "Merger Frequencies -> [3.98843499e+01 3.33682744e-02 4.15067307e-07] \n",
      "\n",
      "Peak Frequencies -> [1.12620221e+02 1.08848173e-01 8.04180359e-07] \n",
      "\n"
     ]
    },
    {
     "data": {
      "text/plain": [
       "<matplotlib.legend.Legend at 0x116057e80>"
      ]
     },
     "execution_count": 8,
     "metadata": {},
     "output_type": "execute_result"
    },
    {
     "data": {
      "image/png": "[encoded data removed]",
      "text/plain": [
       "<Figure size 432x288 with 1 Axes>"
      ]
     },
     "metadata": {},
     "output_type": "display_data"
    }
   ],
   "source": [
    "# change generator for luminosity distance\n",
    "phenomdwave = PhenomDWaveforms(dist_type='luminosity_distance')\n",
    "\n",
    "#start times\n",
    "st = 10.0\n",
    "\n",
    "#end times\n",
    "et = 0.0\n",
    "\n",
    "#luminosity distance (Mpc)\n",
    "lum_dis = np.array([1e1, 1e3, 1e5])\n",
    "\n",
    "## Produce Waveforms ##\n",
    "wave = phenomdwave(m1, m2, chi1, chi2, lum_dis, st, et)\n",
    "\n",
    "\n",
    "\n",
    "## Print Waveforms ##\n",
    "print('Frequencies ->', wave.freqs, '\\n')\n",
    "print('Characteristic Strain hc ->', wave.hc, '\\n')\n",
    "print('Merger Frequencies ->', wave.fmrg, '\\n')\n",
    "print('Peak Frequencies ->', wave.fpeak, '\\n')\n",
    "for i in range(len(wave.freqs)):\n",
    "    plt.loglog(wave.freqs[i], wave.hc[i], label=r'Binary %i'%(i+1))\n",
    "    for f in [wave.fmrg[i], wave.fpeak[i]]:\n",
    "        if np.searchsorted(wave.freqs[i], f) < len(wave.freqs[i]):\n",
    "            plt.scatter(f, wave.hc[i][np.searchsorted(wave.freqs[i], f)], color='k')\n",
    "plt.xlim(1e-7, 1e3)\n",
    "plt.legend(loc = 'lower center')"
   ]
  },
  {
   "cell_type": "markdown",
   "metadata": {},
   "source": [
    "### All scalar inputs and comoving distance as distance measure. Also, change number of frequency points.  "
   ]
  },
  {
   "cell_type": "code",
   "execution_count": 9,
   "metadata": {},
   "outputs": [
    {
     "name": "stdout",
     "output_type": "stream",
     "text": [
      "Frequencies -> [3.10285378e-03 3.10462732e-03 3.10640187e-03 ... 3.60525927e+01\n",
      " 3.60731997e+01 3.60938185e+01] \n",
      "\n",
      "Characteristic Strain hc -> [2.00114629e-19 2.00095455e-19 2.00076283e-19 ... 9.83896063e-25\n",
      " 9.72772630e-25 9.61771894e-25] \n",
      "\n",
      "Merger Frequencies -> 3.9086437296484253 \n",
      "\n",
      "Peak Frequencies -> 18.232489121529646 \n",
      "\n"
     ]
    },
    {
     "data": {
      "image/png": "[encoded data removed]",
      "text/plain": [
       "<Figure size 432x288 with 1 Axes>"
      ]
     },
     "metadata": {},
     "output_type": "display_data"
    }
   ],
   "source": [
    "# change dist_type and num_points\n",
    "phenomdwave = PhenomDWaveforms(dist_type='comoving_distance', num_points=int(2**14))\n",
    "\n",
    "m1, m2, chi1, chi2, com_dist, st, et = 1e2,1e3,0.99,0.9, 1e2, 10.0, 0.0\n",
    "\n",
    "wave = phenomdwave(m1, m2, chi1, chi2, com_dist, st, et)\n",
    "\n",
    "## Print Waveforms ##\n",
    "print('Frequencies ->', wave.freqs, '\\n')\n",
    "print('Characteristic Strain hc ->', wave.hc, '\\n')\n",
    "print('Merger Frequencies ->', wave.fmrg, '\\n')\n",
    "print('Peak Frequencies ->', wave.fpeak, '\\n')\n",
    "\n",
    "plt.loglog(wave.freqs, wave.hc)\n",
    "for f in [wave.fmrg, wave.fpeak]:\n",
    "    if np.searchsorted(wave.freqs, f) < len(wave.freqs):\n",
    "        plt.scatter(f, wave.hc[np.searchsorted(wave.freqs, f)], color='k')\n"
   ]
  },
  {
   "cell_type": "markdown",
   "metadata": {},
   "source": [
    "# snr function"
   ]
  },
  {
   "cell_type": "markdown",
   "metadata": {},
   "source": [
    "The snr function is provided as a handy way to combine PhenomDWaveforms and csnr functions. The input is binary parameters and keyword arguments related to the sensitivity curves, snr calculation, and parallel generation of the process. For documentation on this function see https://mikekatz04.github.io/BOWIE/gwsnrcalc.html#module-gwsnrcalc.gw_snr_calculator. **Note**: there is a class with the name ``gwsnrcalc.gw_snr_calculator.SNR``. This is different than ``gwsnrcalc.gw_snr_calculator.snr``, which is a function. The function uses the class to run its operation."
   ]
  },
  {
   "cell_type": "code",
   "execution_count": 15,
   "metadata": {},
   "outputs": [
    {
     "name": "stdout",
     "output_type": "stream",
     "text": [
      "With WD noise: all [  1.29078513 396.22611864   1.03040305] \n",
      "\n",
      "Without WD noise: all [  1.29078513 419.58974495   1.03040305] \n",
      "\n",
      "With WD noise: ins [1.29078513e+00 3.94826925e+02 1.25535081e-46] \n",
      "\n",
      "Without WD noise: ins [1.29078513e+00 4.18268715e+02 1.25535081e-46] \n",
      "\n",
      "With WD noise: mrg [ 0.         32.96355335  0.52041204] \n",
      "\n",
      "Without WD noise: mrg [ 0.         32.96355335  0.52041204] \n",
      "\n",
      "With WD noise: rd [0.         4.49892924 0.88932657] \n",
      "\n",
      "Without WD noise: rd [0.         4.49892924 0.88932657] \n",
      "\n"
     ]
    }
   ],
   "source": [
    "## Create Waveforms First ##\n",
    "\n",
    "#masses\n",
    "m1 =np.array([1e1, 1e5, 1e8])\n",
    "m2 = np.array([1e2, 1e4, 1e7])\n",
    "\n",
    "#spins\n",
    "chi1 = np.array([0.3, 0.5, -0.8])\n",
    "chi2 = np.array([0.2, 0.99, -0.9])\n",
    "\n",
    "#redshift\n",
    "z = np.array([0.1, 0.5, 3.0])\n",
    "\n",
    "#start times\n",
    "st = np.array([10.0, 1.0, 8.0])\n",
    "\n",
    "#end times\n",
    "et = np.array([5.0, 0.0, 0.0])\n",
    "\n",
    "snr_out = snr(m1, m2, chi1, chi2, z, st, et, add_wd_noise='Both', signal_type= ['all', 'ins', 'mrg', 'rd'], sensitivity_curves='LPA', prefactor=1)\n",
    "for key in ['all', 'ins', 'mrg', 'rd']:\n",
    "    print('With WD noise:', key, snr_out['LPA_wd_' + key], '\\n')\n",
    "    print('Without WD noise:', key, snr_out['LPA_' + key], '\\n')"
   ]
  },
  {
   "cell_type": "code",
   "execution_count": 6,
   "metadata": {},
   "outputs": [
    {
     "name": "stdout",
     "output_type": "stream",
     "text": [
      "[1.92715867e+00 5.46387909e+02 5.73440491e-06]\n"
     ]
    }
   ],
   "source": [
    "#masses\n",
    "m1 =np.array([1e1, 1e5, 1e9])\n",
    "m2 = np.array([1e2, 1e4, 1e7])\n",
    "\n",
    "#spins\n",
    "chi1 = np.array([0.3, 0.5, -0.8])\n",
    "chi2 = np.array([0.2, 0.99, -0.9])\n",
    "\n",
    "#redshift\n",
    "z = np.array([0.1, 0.5, 3.0])\n",
    "\n",
    "#start times\n",
    "st = np.array([10.0, 1.0, 8.0])\n",
    "\n",
    "#end times\n",
    "et = np.array([5.0, 0.0, 0.0])\n",
    "\n",
    "out = snr(m1, m2, chi1, chi2, z, \n",
    "    st, et, sensitivity_curve='PL', \n",
    "    wd_noise=False, phase='all', prefactor=1.0, \n",
    "    dist_type='redshift', num_points=8192)\n",
    "\n",
    "print(out)"
   ]
  },
  {
   "cell_type": "markdown",
   "metadata": {},
   "source": [
    "# Read noise curves"
   ]
  },
  {
   "cell_type": "markdown",
   "metadata": {},
   "source": [
    "read_noise_curves.py provides an easy way to interface with the noise curves provided with the package. They are detailed in our paper mentioned above. You can choose the output type of the curve and if you want to add white dwarf noise. For further documentation, see https://mikekatz04.github.io/BOWIE/gwsnrcalc.html#module-gwsnrcalc.utils.readnoisecurves."
   ]
  },
  {
   "cell_type": "markdown",
   "metadata": {},
   "source": [
    "### Check which sensitivity curves are available."
   ]
  },
  {
   "cell_type": "code",
   "execution_count": 6,
   "metadata": {},
   "outputs": [
    {
     "data": {
      "text/plain": [
       "['PL', 'HB_wd_noise', 'CL', 'CLLF', 'PLCS', 'LPA', 'PLHB']"
      ]
     },
     "execution_count": 6,
     "metadata": {},
     "output_type": "execute_result"
    }
   ],
   "source": [
    "show_available_noise_curves()"
   ]
  },
  {
   "cell_type": "markdown",
   "metadata": {},
   "source": [
    "### Read a few of them"
   ]
  },
  {
   "cell_type": "code",
   "execution_count": 3,
   "metadata": {},
   "outputs": [
    {
     "data": {
      "text/plain": [
       "<matplotlib.legend.Legend at 0x116065940>"
      ]
     },
     "execution_count": 3,
     "metadata": {},
     "output_type": "execute_result"
    },
    {
     "data": {
      "image/png": "[encoded data removed]",
      "text/plain": [
       "<Figure size 432x288 with 1 Axes>"
      ]
     },
     "metadata": {},
     "output_type": "display_data"
    }
   ],
   "source": [
    "fn, amp = read_noise_curve('PL', add_wd_noise=False, noise_type_out='ASD')\n",
    "plt.loglog(fn, amp, label='PL-ASD')\n",
    "\n",
    "fn, amp = read_noise_curve('LPA', add_wd_noise=True, noise_type_out='ASD')\n",
    "plt.loglog(fn, amp, label='LPA-ASD with GB')\n",
    "\n",
    "fn, amp = read_noise_curve('LPA', add_wd_noise=True, noise_type_out='char_strain')\n",
    "plt.loglog(fn, amp, label=r'LPA-$h_n$ with GB')\n",
    "\n",
    "plt.legend(prop={'size':12})"
   ]
  },
  {
   "cell_type": "markdown",
   "metadata": {},
   "source": [
    "### Read from a file"
   ]
  },
  {
   "cell_type": "code",
   "execution_count": 14,
   "metadata": {},
   "outputs": [
    {
     "data": {
      "text/plain": [
       "<matplotlib.legend.Legend at 0x116297198>"
      ]
     },
     "execution_count": 14,
     "metadata": {},
     "output_type": "execute_result"
    },
    {
     "data": {
      "image/png": "[encoded data removed]",
      "text/plain": [
       "<Figure size 432x288 with 1 Axes>"
      ]
     },
     "metadata": {},
     "output_type": "display_data"
    }
   ],
   "source": [
    "# you may need to edit the file path. This is an example.\n",
    "file_path = 'gwsnrcalc/utils/noise_curves/HB_wd_noise.txt'\n",
    "fn, amp = read_noise_curve(file_path, noise_type_in='ASD', noise_type_out='PSD')\n",
    "plt.loglog(fn, amp, label='HB White Dwarf Noise (PSD)')\n",
    "\n",
    "file_path = 'gwsnrcalc/utils/noise_curves/CLLF.txt'\n",
    "fn, amp = read_noise_curve(file_path, noise_type_in='ASD', noise_type_out='PSD')\n",
    "plt.loglog(fn, amp, label='CLLF (PSD)')\n",
    "plt.legend(prop={'size':12})"
   ]
  },
  {
   "cell_type": "code",
   "execution_count": null,
   "metadata": {},
   "outputs": [],
   "source": []
  }
 ],
 "metadata": {
  "anaconda-cloud": {},
  "kernelspec": {
   "display_name": "Python [conda env:anaconda3]",
   "language": "python",
   "name": "conda-env-anaconda3-py"
  },
  "language_info": {
   "codemirror_mode": {
    "name": "ipython",
    "version": 3
   },
   "file_extension": ".py",
   "mimetype": "text/x-python",
   "name": "python",
   "nbconvert_exporter": "python",
   "pygments_lexer": "ipython3",
   "version": "3.5.5"
  }
 },
 "nbformat": 4,
 "nbformat_minor": 1
}
