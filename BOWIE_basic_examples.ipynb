{
 "cells": [
  {
   "cell_type": "markdown",
   "metadata": {},
   "source": [
    "# Guide to generate_contour_data.py and make_plot.py"
   ]
  },
  {
   "cell_type": "markdown",
   "metadata": {},
   "source": [
    "This is a guide to generate_contour_data.py and make_plot.py, the two main codes used in BOWIE, Binary Observability With Illustrative Exploration. For information on dictionary options for the inputs of these functions, see \"dictionary_options.txt\". These dictionaries are used as input here in the notebook; however, these can also be constructed into .json input files. See generate_config.json and make_plot_config.json. To run these from the command line, you can run the codes using the code name followed by the configuration file. For example, \"generate_contour_data.py generate_config.json.\" The python codes will read in the .json files similarly to the dict inputs used here. \n",
    "\n",
    "For specific information on the code structures, classes used, and class and function inputs, please refer to the code documentation by using the python help() function.\n",
    "\n",
    "Please refer to and cite (###ADD SUBMITTED LINK HERE ###) for this usage of this tool and an example of its application. The codes here are shared under the GNU license. "
   ]
  },
  {
   "cell_type": "code",
   "execution_count": 15,
   "metadata": {},
   "outputs": [],
   "source": [
    "from generate_contour_data import generate_contour_data\n",
    "from make_plot import plot_main\n",
    "import matplotlib.pyplot as plt\n",
    "% matplotlib inline\n",
    "import numpy as np\n",
    "import warnings\n",
    "warnings.filterwarnings(\"ignore\")"
   ]
  },
  {
   "cell_type": "markdown",
   "metadata": {},
   "source": [
    "## generate_contour_data.py"
   ]
  },
  {
   "cell_type": "markdown",
   "metadata": {},
   "source": [
    "generate_contour_data.py generates gridded data with specified parameters of binary black holes for x and y, and signal-to-noise ratio (SNR) for z. The SNR is calculated by inputing as many sensitivity curves (as txt files) as desired. Output can be in .txt or compressed .hdf5 for larger files."
   ]
  },
  {
   "cell_type": "markdown",
   "metadata": {},
   "source": [
    "### Inputs"
   ]
  },
  {
   "cell_type": "markdown",
   "metadata": {},
   "source": [
    "- Set of Binary Parameters\n",
    "- Set of Sensitivity Curves"
   ]
  },
  {
   "cell_type": "markdown",
   "metadata": {},
   "source": [
    "### Outputs"
   ]
  },
  {
   "cell_type": "markdown",
   "metadata": {},
   "source": [
    "- File of gridded SNR values"
   ]
  },
  {
   "cell_type": "markdown",
   "metadata": {},
   "source": [
    "## make_plot.py"
   ]
  },
  {
   "cell_type": "markdown",
   "metadata": {},
   "source": [
    "make_plot.py is a tool for gravitational wave analysis. It was originally designed for the LISA gravitational wave mission, but has broad applications. It provides a gridded array of plots for comparisons of sensitivity curves and/or binary parameters. This guide will walk you through the uses of this code. Therefore, included here is information on how to create the configuration file (make_plot_config.json). For specific information on the code structure, classes used, and class and function inputs, please refer to the code documentation by using the python function help(make_plot). Please refer to and cite (###ADD SUBMITTED LINK HERE ###) for this usage of this tool and an example of its application. "
   ]
  },
  {
   "cell_type": "markdown",
   "metadata": {},
   "source": [
    "### Generic Inputs"
   ]
  },
  {
   "cell_type": "markdown",
   "metadata": {},
   "source": [
    "make_plot.py takes as an input, a gridded data set with columns representing the x values, y values, and z values. For this particular application, and throughout the guide, the x value will be the signal-to-noise ratio (SNR), but the tool itself is generic to whatever z value the user prefers. \n",
    "\n",
    "This input can take the form of a file (like the output from generate_contour_data.py), or can be in the form a dict within a code or notebook. In this guide, I will use both to show booth options. The main difference is json has lower case true and false for boolean, while python has True and False. "
   ]
  },
  {
   "cell_type": "markdown",
   "metadata": {},
   "source": [
    "### Basic Outputs"
   ]
  },
  {
   "cell_type": "markdown",
   "metadata": {},
   "source": [
    "In this section I will describe the three basic types of plots this tool can produce. To do this, I will import the code and create my own dict in this notebook containing desired inputs. The dict will exactly resemble what can be assembled using a json file besides the boolean capitalization. "
   ]
  },
  {
   "cell_type": "markdown",
   "metadata": {},
   "source": [
    "# Example 1"
   ]
  },
  {
   "cell_type": "markdown",
   "metadata": {},
   "source": [
    "Generate Data for Plot 1: generate a 300x300 grid of source frame total mass [$10^2M_\\odot$, $10^8M_\\odot$] and redshift [$10^{-2}$, $10^2$] for the full waveform through inspiral, merger, and ringdown. Fix the mass ratio to 1/2. Use different spins of 0.8 for $m_1$ and 0.6 for $m_2$. This plot will only need one sensitivity curve. We will use the Proposed LISA sensitivity, received in private communication with Antoine Petiteau, without the galactic foreground. We will output to an hdf5 file.   "
   ]
  },
  {
   "cell_type": "code",
   "execution_count": null,
   "metadata": {},
   "outputs": [],
   "source": [
    "generate_plot_1_dict = {\n",
    "\n",
    "\"general\":\n",
    "    {\n",
    "    \"WORKING_DIRECTORY\": \".\",\n",
    "    \n",
    "    \"signal_type\": [\"all\"],\n",
    "    \"generation_type\": \"parallel\",\n",
    "    \"num_processors\": 4,\n",
    "    \"num_splits\":2000,\n",
    "    \"add_wd_noise\": \"False\"\n",
    "    },\n",
    "\n",
    "\"output_info\":\n",
    "    {\n",
    "    \"output_folder\": \"paper_data\",\n",
    "    \"output_file_name\":\"plot_1_data\",\n",
    "    \"output_file_type\":\"hdf5\",\n",
    "    \"x_col_name\": \"M_s\",\n",
    "    \"y_col_name\": \"z\",\n",
    "    \"added_note\": \"No white dwarf noise.\"\n",
    "    },\n",
    "\n",
    "\n",
    "\"input_info\":\n",
    "    {\n",
    "    \"freq_column_label\": \"f\",\n",
    "    \"amplitude_column_label\": \"ASD\", \n",
    "    \"sensitivity_curves\": \n",
    "        [\n",
    "        #proposed LISA only\n",
    "        {\"name\":\"PL.txt\", \"type\":\"ASD\"}\n",
    "        ],\n",
    "    \"sensitivity_averaging_factor\":0.3872983346,\n",
    "    \"input_location\":\"noise_curves\"\n",
    "    },\n",
    "\n",
    "\"generate_info\":\n",
    "    {\n",
    "    \"xscale\": \"log\",\n",
    "    \"num_x\": 300,\n",
    "    \"x_low\": 1e2,\n",
    "    \"x_high\": 1e10,\n",
    "    \"xval_name\": \"total_mass\",\n",
    "    \"xval_unit\": \"SolarMasses\",\n",
    "\n",
    "    \"yscale\": \"log\",\n",
    "    \"num_y\": 300,\n",
    "    \"y_low\": 1e-2,\n",
    "    \"y_high\": 1e2,\n",
    "    \"yval_name\": \"redshift\",\n",
    "\n",
    "    \"yval_unit\": \"None\",\n",
    "\n",
    "    \"fixed_parameter_1\": 0.5,\n",
    "    \"par_1_name\": \"mass_ratio\",\n",
    "    \"par_1_unit\": \"None\",\n",
    "\n",
    "    # use different spins\n",
    "    \"fixed_parameter_2\": 0.8,\n",
    "    \"par_2_name\": \"spin_1\",\n",
    "    \"par_2_unit\": \"None\",\n",
    "        \n",
    "    \"fixed_parameter_3\": 1.0,\n",
    "    \"par_3_name\": \"start_time\",\n",
    "    \"par_3_unit\": \"Years\",\n",
    "\n",
    "    \"fixed_parameter_4\": 0.0,\n",
    "    \"par_4_name\": \"end_time\",\n",
    "    \"par_4_unit\": \"Years\",\n",
    "\n",
    "    \"fixed_parameter_5\": 0.6,\n",
    "    \"par_5_name\": \"spin_2\",\n",
    "    \"par_5_unit\": \"None\",\n",
    "        \n",
    "    #all of the averaging factors together make sqrt(16/5)\n",
    "    #snr_factor is sqrt(2) for the 6 link detector\n",
    "    \"snr_calculation_factors\":\n",
    "        {\n",
    "        \"averaging_factor\": 0.692820323,\n",
    "        \"snr_factor\": 1.4142135624\n",
    "        }\n",
    "    }\n",
    "}\n",
    "\n",
    "generate_contour_data(generate_plot_1_dict)"
   ]
  },
  {
   "cell_type": "markdown",
   "metadata": {},
   "source": [
    "## Waterfall Plot"
   ]
  },
  {
   "cell_type": "markdown",
   "metadata": {},
   "source": [
    "The waterfall plot is a general filled contour plot. You can define values for the contours, but there are default values shown in the plot below. These plots resemble figure 3 in the LISA Mission Proposal."
   ]
  },
  {
   "cell_type": "code",
   "execution_count": null,
   "metadata": {
    "scrolled": true
   },
   "outputs": [],
   "source": [
    "waterfall_dict = {\n",
    "\"general\":{\n",
    "    \"WORKING_DIRECTORY\": \"paper_data\",\n",
    "\n",
    "    \"x_column_label\": \"M_s\",\n",
    "    \"y_column_label\": \"z\", \n",
    "\n",
    "    \"figure_width\": 13.0,\n",
    "    \"figure_height\": 7.0,\n",
    "\n",
    "    \"num_rows\": 1,\n",
    "    \"num_cols\": 1,\n",
    "\n",
    "    \"xlims\": [2.0, 10.0],\n",
    "    \"dx\": 1.0,\n",
    "    \"xscale\": \"log\",\n",
    "\n",
    "    \"ylims\": [0.0, 20.0],\n",
    "    \"dy\": 4.0,\n",
    "    \"yscale\": \"lin\",\n",
    "\n",
    "    \"fig_y_label\": \"Redshift\",\n",
    "    \"fig_x_label\": \"Total Mass ($M_\\odot$)\",\n",
    "        \n",
    "    \"file_name\":\"plot_1_data.hdf5\"\n",
    "    },\n",
    "\n",
    "\n",
    "\n",
    "\"plot_info\":\n",
    "    {\n",
    "\n",
    "    \"0\":{\n",
    "        \"file\":[\n",
    "            {\"label\":\"PL_all\"}\n",
    "            ],\n",
    "        \"type\": \"Waterfall\"\n",
    "        }\n",
    "    }\n",
    "}\n",
    "\n",
    "plot_main(waterfall_dict)"
   ]
  },
  {
   "cell_type": "markdown",
   "metadata": {},
   "source": [
    "### Edit the Plot in Python"
   ]
  },
  {
   "cell_type": "markdown",
   "metadata": {},
   "source": [
    "We also provide the option of editing the plots with the matplotlib.pyplot interface. This is done by supplying a value of True for the optional argument return_fig_ax. We will zoom in to very high redshifts and use some general plotting functions to show this interface."
   ]
  },
  {
   "cell_type": "code",
   "execution_count": null,
   "metadata": {},
   "outputs": [],
   "source": [
    "fig, ax = plot_main(waterfall_dict, return_fig_ax=True)\n",
    "ax[0].set_title('Waterfall Plot for $a_1=0.8$, $a_2=0.6$ and $q=1/2$', fontsize=20)\n",
    "ax[0].set_xlim(5,7)\n",
    "ax[0].set_ylim(30,40)\n",
    "ax[0].set_yticks([30,32,34,36,38,40])\n",
    "ax[0].set_yticklabels([30,32,34,36,38,40])"
   ]
  },
  {
   "cell_type": "markdown",
   "metadata": {},
   "source": [
    "# Example 2"
   ]
  },
  {
   "cell_type": "markdown",
   "metadata": {},
   "source": [
    "Generate Data for Plot 2: generate a 500x500 grid of mass ratio [$10^{-4}$, 1] and source frame total mass [$10^2M_\\odot$, $10^8M_\\odot$] for the full waveform for ringdown. Fix the redshift to 2. Use the same spin for both black holes (0.0). This plot will need two sensitivity curves. We will use the Proposed LISA sensitivity, received in private communication with Antoine Petiteau, and Classic LISA from Larson et al 2000. The Hils-Bender white dwarf background is used. We will output to an hdf5 file."
   ]
  },
  {
   "cell_type": "code",
   "execution_count": 4,
   "metadata": {},
   "outputs": [
    {
     "name": "stdout",
     "output_type": "stream",
     "text": [
      "start pool num process: 125 \n",
      "\n",
      "outputing file\n",
      "185.80231189727783\n"
     ]
    }
   ],
   "source": [
    "generate_plot_2_dict = {\n",
    "\n",
    "\"general\":\n",
    "    {\n",
    "    \"WORKING_DIRECTORY\": \".\",\n",
    "    \n",
    "    \"signal_type\": [\"rd\"],\n",
    "    \"generation_type\": \"parallel\",\n",
    "    \"num_processors\": 4,\n",
    "    \"num_splits\":2000,\n",
    "    \"add_wd_noise\": \"True\"\n",
    "    },\n",
    "\n",
    "\"output_info\":\n",
    "    {\n",
    "    \"output_folder\": \"paper_data\",\n",
    "    \"output_file_name\":\"plot_2_data\",\n",
    "    \"output_file_type\":\"hdf5\",\n",
    "    \"x_col_name\": \"q\",\n",
    "    \"y_col_name\": \"M_s\",\n",
    "    \"added_note\": \"Hils-Bender white dwarf noise.\"\n",
    "    },\n",
    "\n",
    "\n",
    "\"input_info\":\n",
    "    {\n",
    "    \"freq_column_label\": \"f\",\n",
    "    \"amplitude_column_label\": \"ASD\", \n",
    "    \"sensitivity_curves\": \n",
    "        [\n",
    "        {\"name\":\"PL.txt\", \"type\":\"ASD\"},\n",
    "        {\"name\":\"CL.txt\", \"type\":\"ASD\"}\n",
    "        ],\n",
    "    \"sensitivity_averaging_factor\":0.3872983346,\n",
    "    \"input_location\":\"noise_curves\",\n",
    "    \"Galactic_background\": \n",
    "        {\"name\":\"WDnoise.txt\", \"type\":\"ASD\"}\n",
    "    },\n",
    "\n",
    "\"generate_info\":\n",
    "    {\n",
    "    \"xscale\": \"log\",\n",
    "    \"num_x\": 500,\n",
    "    \"x_low\": 1e-4,\n",
    "    \"x_high\": 1e0,\n",
    "    \"xval_name\": \"mass_ratio\",\n",
    "    \"xval_unit\": \"None\",\n",
    "\n",
    "    \"yscale\": \"log\",\n",
    "    \"num_y\": 500,\n",
    "    \"y_low\": 1e2,\n",
    "    \"y_high\": 1e10,\n",
    "    \"yval_name\": \"total_mass\",\n",
    "\n",
    "    \"yval_unit\": \"SolarMasses\",\n",
    "\n",
    "    \"fixed_parameter_1\": 2.0,\n",
    "    \"par_1_name\": \"redshift\",\n",
    "    \"par_1_unit\": \"None\",\n",
    "\n",
    "    # use same spins\n",
    "    \"fixed_parameter_2\": 0.0,\n",
    "    \"par_2_name\": \"spin\",\n",
    "    \"par_2_unit\": \"None\",\n",
    "\n",
    "    #half year of inspiral. Just needs to be greater than zero, since we want the ringdown. \n",
    "    \"fixed_parameter_3\": 0.5,\n",
    "    \"par_3_name\": \"start_time\",\n",
    "    \"par_3_unit\": \"Years\",\n",
    "\n",
    "    \"fixed_parameter_4\": 0.0,\n",
    "    \"par_4_name\": \"end_time\",\n",
    "    \"par_4_unit\": \"Years\",\n",
    "\n",
    "    #using par_5_name == \"same_spin\" with take the other spin value. \n",
    "    \"par_5_name\": \"same_spin\",\n",
    "    \"par_5_unit\": \"None\",\n",
    "        \n",
    "    #all of the averaging factors together make sqrt(16/5)\n",
    "    #snr_factor is sqrt(2) for the 6 link detector\n",
    "    \"snr_calculation_factors\":\n",
    "        {\n",
    "        \"averaging_factor\": 0.692820323,\n",
    "        \"snr_factor\": 1.4142135624\n",
    "        }\n",
    "    }\n",
    "}\n",
    "\n",
    "generate_contour_data(generate_plot_2_dict)"
   ]
  },
  {
   "cell_type": "markdown",
   "metadata": {
    "collapsed": true
   },
   "source": [
    "## Ratio Difference and Loss/Gain Contours"
   ]
  },
  {
   "cell_type": "markdown",
   "metadata": {},
   "source": [
    "Ratio plots show the ratio of the SNR from one dataset to another ($\\rho_1/\\rho_2$).The first dataset is inputed as $\\rho_1$. It is then compared against the \"control\", $\\rho_2$. The loss (gain) contours refer to sources from the first dataset with an SNR above (below) a certain value, while the second dataset has an SNR below (above) that same value. This value can be set as the \"SNR_CUT\" global variable, or specifically for the plot of interest with the \"snr_contour_value\" option. Filled grey contour lines indicate gained sources while dashed lines indicate lost sources."
   ]
  },
  {
   "cell_type": "code",
   "execution_count": 6,
   "metadata": {},
   "outputs": [
    {
     "name": "stderr",
     "output_type": "stream",
     "text": [
      "/Users/michaelkatz/Google Drive/Research/PythonCodes/BOWIE/make_plot.py:503: RuntimeWarning: invalid value encountered in greater_equal\n",
      "  inds_gained = np.where((zout>=comparison_value) & (control_zout< comparison_value))\n",
      "/Users/michaelkatz/Google Drive/Research/PythonCodes/BOWIE/make_plot.py:503: RuntimeWarning: invalid value encountered in less\n",
      "  inds_gained = np.where((zout>=comparison_value) & (control_zout< comparison_value))\n",
      "/Users/michaelkatz/Google Drive/Research/PythonCodes/BOWIE/make_plot.py:504: RuntimeWarning: invalid value encountered in less\n",
      "  inds_lost = np.where((zout<comparison_value) & (control_zout>=comparison_value))\n",
      "/Users/michaelkatz/Google Drive/Research/PythonCodes/BOWIE/make_plot.py:504: RuntimeWarning: invalid value encountered in greater_equal\n",
      "  inds_lost = np.where((zout<comparison_value) & (control_zout>=comparison_value))\n",
      "/Users/michaelkatz/Google Drive/Research/PythonCodes/BOWIE/make_plot.py:507: RuntimeWarning: invalid value encountered in less\n",
      "  inds_rid = np.where((zout<1.0) & (control_zout<1.0))\n",
      "/Users/michaelkatz/Google Drive/Research/PythonCodes/BOWIE/make_plot.py:516: RuntimeWarning: invalid value encountered in greater_equal\n",
      "  diff = np.log10(diff)*(diff >= 1.05) + (-np.log10(1.0/diff))*(diff<=0.952) + 0.0*((diff<1.05) & (diff>0.952))\n",
      "/Users/michaelkatz/Google Drive/Research/PythonCodes/BOWIE/make_plot.py:516: RuntimeWarning: invalid value encountered in less_equal\n",
      "  diff = np.log10(diff)*(diff >= 1.05) + (-np.log10(1.0/diff))*(diff<=0.952) + 0.0*((diff<1.05) & (diff>0.952))\n",
      "/Users/michaelkatz/Google Drive/Research/PythonCodes/BOWIE/make_plot.py:516: RuntimeWarning: invalid value encountered in less\n",
      "  diff = np.log10(diff)*(diff >= 1.05) + (-np.log10(1.0/diff))*(diff<=0.952) + 0.0*((diff<1.05) & (diff>0.952))\n",
      "/Users/michaelkatz/Google Drive/Research/PythonCodes/BOWIE/make_plot.py:516: RuntimeWarning: invalid value encountered in greater\n",
      "  diff = np.log10(diff)*(diff >= 1.05) + (-np.log10(1.0/diff))*(diff<=0.952) + 0.0*((diff<1.05) & (diff>0.952))\n"
     ]
    },
    {
     "data": {
      "image/png": "[encoded data removed]",
      "text/plain": [
       "<matplotlib.figure.Figure at 0x1073d1908>"
      ]
     },
     "metadata": {},
     "output_type": "display_data"
    }
   ],
   "source": [
    "ratio_dict = {\n",
    "\"general\":{\n",
    "    \"WORKING_DIRECTORY\": \"paper_data\",\n",
    "\n",
    "    \"SNR_CUT\": 5.0,\n",
    "\n",
    "    \"x_column_label\": \"q\",\n",
    "    \"y_column_label\": \"M_s\", \n",
    "\n",
    "    \"figure_width\": 13.0,\n",
    "    \"figure_height\": 10.0,\n",
    "    \"spacing\": \"wide\",\n",
    "\n",
    "    \"num_rows\": 1,\n",
    "    \"num_cols\": 1,\n",
    "\n",
    "    \"ylims\": [2.0, 10.0],\n",
    "    \"dy\": 1.0,\n",
    "    \"yscale\": \"log\",\n",
    "    \"file_name\": \n",
    "\n",
    "    \"xlims\": [-4.0, 0.0],\n",
    "    \"dx\": 1.0,\n",
    "    \"xscale\": \"log\",\n",
    "    },\n",
    "\n",
    "\n",
    "\n",
    "\"plot_info\":\n",
    "    {\n",
    "\n",
    "    \"0\":{\n",
    "        \"file\":[\n",
    "            {\"name\":\"plot_2_data.hdf5\",\n",
    "             \"label\":\"PL_wd_rd\"}\n",
    "            ],\n",
    "        \"type\": \"Ratio\",\n",
    "        \"control\":\n",
    "            {\"name\":\"plot_2_data.hdf5\",\n",
    "             \"label\":\"CL_wd_rd\"},\n",
    "        \"label\":\n",
    "            {\"title\": \"Source Frame Total Mass vs. Mass Ratio\", \n",
    "             \"title_fontsize\": 18,  \"ylabel\": r\"Total Mass ($M_\\odot$)\", \n",
    "             \"xlabel\": \"Mass Ratio\"},\n",
    "        }\n",
    "    }\n",
    "}\n",
    "\n",
    "\n",
    "plot_main(ratio_dict)"
   ]
  },
  {
   "cell_type": "markdown",
   "metadata": {},
   "source": [
    "# Example 3"
   ]
  },
  {
   "cell_type": "markdown",
   "metadata": {},
   "source": [
    "Generate Data for Plot 3: generate a 200x200 grid of total mass [$10^{0}M_\\odot$, $10^{3}M_\\odot$] and luminosity distance [$10^0$ Mpc, $10^5$ Mpc] for the inpiral phase (for these binaries, the only signal will be inspiral). Fix spins to 0.8. Rather than sensitivity curves, we will compare four values of mass ratio [1.0, 0.7, 0.4, 0.1]. For these binaries, we want earlier evolutions. Therefore, the start time will be 20 years before merger and an end time of 10 years before merger. This plot will need one sensitivity curve. We will use the Proposed LISA sensitivity, received in private communication with Antoine Petiteau, without galactic background noise. We will output to an hdf5 file."
   ]
  },
  {
   "cell_type": "code",
   "execution_count": 5,
   "metadata": {},
   "outputs": [
    {
     "name": "stdout",
     "output_type": "stream",
     "text": [
      "start pool num process: 20 \n",
      "\n",
      "outputing file\n",
      "51.62211298942566\n",
      "start pool num process: 20 \n",
      "\n",
      "outputing file\n",
      "54.80070400238037\n",
      "start pool num process: 20 \n",
      "\n",
      "outputing file\n",
      "72.89121294021606\n",
      "start pool num process: 20 \n",
      "\n",
      "outputing file\n",
      "90.70795893669128\n"
     ]
    }
   ],
   "source": [
    "for q, q_label in [[1.0, '1'], [0.7, '07'], [0.4, '04'], [0.1, '01']]:\n",
    "    generate_plot_3_dict = {\n",
    "\n",
    "\"general\":\n",
    "    {\n",
    "    \"WORKING_DIRECTORY\": \".\",\n",
    "    \n",
    "    \"signal_type\": [\"ins\"],\n",
    "    \"generation_type\": \"parallel\",\n",
    "    \"num_processors\": 4,\n",
    "    \"num_splits\":2000,\n",
    "    \"add_wd_noise\": \"False\"\n",
    "    },\n",
    "\n",
    "\"output_info\":\n",
    "    {\n",
    "    \"output_folder\": \"paper_data\",\n",
    "    \"output_file_name\":\"plot_3_data_%s\"%q_label,\n",
    "    \"output_file_type\":\"hdf5\",\n",
    "    \"x_col_name\": \"M_s\",\n",
    "    \"y_col_name\": \"D_L\"\n",
    "    },\n",
    "\n",
    "\n",
    "\"input_info\":\n",
    "    {\n",
    "    \"freq_column_label\": \"f\",\n",
    "    \"amplitude_column_label\": \"ASD\", \n",
    "    \"sensitivity_curves\": \n",
    "        [\n",
    "        {\"name\":\"PL.txt\", \"type\":\"ASD\"}\n",
    "        ],\n",
    "    \"sensitivity_averaging_factor\":0.3872983346,\n",
    "    \"input_location\":\"noise_curves\"\n",
    "    },\n",
    "\n",
    "\"generate_info\":\n",
    "    {\n",
    "    \"xscale\": \"log\",\n",
    "    \"num_x\": 200,\n",
    "    \"x_low\": 1e0,\n",
    "    \"x_high\": 1e3,\n",
    "    \"xval_name\": \"total_mass\",\n",
    "    \"xval_unit\": \"None\",\n",
    "\n",
    "    \"yscale\": \"log\",\n",
    "    \"num_y\": 200,\n",
    "    \"y_low\": 1e0,\n",
    "    \"y_high\": 1e5,\n",
    "    \"yval_name\": \"luminosity_distance\",\n",
    "\n",
    "    \"yval_unit\": \"Mpc\",\n",
    "\n",
    "    \"fixed_parameter_1\": q,\n",
    "    \"par_1_name\": \"mass_ratio\",\n",
    "    \"par_1_unit\": \"None\",\n",
    "\n",
    "    # use same spins\n",
    "    \"fixed_parameter_2\": 0.8,\n",
    "    \"par_2_name\": \"spin\",\n",
    "    \"par_2_unit\": \"None\",\n",
    "        \n",
    "    #ten year observation starting at 20 years before merger\n",
    "    \"fixed_parameter_3\": 20.0,\n",
    "    \"par_3_name\": \"start_time\",\n",
    "    \"par_3_unit\": \"Years\",\n",
    "\n",
    "    \"fixed_parameter_4\": 10.0,\n",
    "    \"par_4_name\": \"end_time\",\n",
    "    \"par_4_unit\": \"Years\",\n",
    "\n",
    "    #using par_3_name == \"same_spin\" will take the other spin value. \n",
    "    \"par_5_name\": \"same_spin\",\n",
    "    \"par_5_unit\": \"None\",\n",
    "        \n",
    "    #all of the averaging factors together make sqrt(16/5)\n",
    "    #snr_factor is sqrt(2) for the 6 link detector\n",
    "    \"snr_calculation_factors\":\n",
    "        {\n",
    "        \"averaging_factor\": 0.692820323,\n",
    "        \"snr_factor\": 1.4142135624\n",
    "        }\n",
    "    }\n",
    "}\n",
    "\n",
    "    generate_contour_data(generate_plot_3_dict)"
   ]
  },
  {
   "cell_type": "markdown",
   "metadata": {
    "collapsed": true
   },
   "source": [
    "## Horizon Plot"
   ]
  },
  {
   "cell_type": "markdown",
   "metadata": {},
   "source": [
    "Horizon plots are helpful for comparing more than two parameters. They show contour lines at either \"SNR_CUT\" or a specified value with \"snr_contour_value.\" "
   ]
  },
  {
   "cell_type": "code",
   "execution_count": 14,
   "metadata": {},
   "outputs": [
    {
     "data": {
      "image/png": "[encoded data removed]",
      "text/plain": [
       "<matplotlib.figure.Figure at 0x181c5f8ef0>"
      ]
     },
     "metadata": {},
     "output_type": "display_data"
    }
   ],
   "source": [
    "horizon_dict = {\n",
    "\"general\":{\n",
    "    \"WORKING_DIRECTORY\": \"paper_data\",\n",
    "\n",
    "    \"SNR_CUT\": 5.0,\n",
    "\n",
    "    \"x_column_label\": \"M_s\",\n",
    "    \"y_column_label\": \"D_L\", \n",
    "\n",
    "    \"figure_width\": 13.0,\n",
    "    \"figure_height\": 10.0,\n",
    "    \"spacing\": \"wide\",\n",
    "\n",
    "    \"num_rows\": 1,\n",
    "    \"num_cols\": 1,\n",
    "\n",
    "    \"xlims\": [1.0, 3.0],\n",
    "    \"dx\": 1.0,\n",
    "    \"xscale\": \"log\",\n",
    "\n",
    "    \"ylims\": [0.0, 4.0],\n",
    "    \"dy\": 1.0,\n",
    "    \"yscale\": \"log\",\n",
    "    },\n",
    "\n",
    "\n",
    "\n",
    "\"plot_info\":\n",
    "    {\n",
    "\n",
    "    \"0\":{\n",
    "        \"file\":[\n",
    "            {\"name\":\"plot_3_data_1.hdf5\",\n",
    "             \"label\":\"PL_ins\"},\n",
    "            {\"name\":\"plot_3_data_07.hdf5\",\n",
    "             \"label\":\"PL_ins\"},\n",
    "            {\"name\":\"plot_3_data_04.hdf5\",\n",
    "             \"label\":\"PL_ins\"},\n",
    "            {\"name\":\"plot_3_data_01.hdf5\",\n",
    "             \"label\":\"PL_ins\"}\n",
    "            ],\n",
    "        \"type\": \"Horizon\",\n",
    "        \"label\":\n",
    "            {\"title\": \"Spin Comparisons\", \n",
    "             \"title_fontsize\": 18,  \"xlabel\": r\"Total Mass ($M_\\odot$)\", \n",
    "             \"ylabel\": \"Redshift\"},\n",
    "\n",
    "        \n",
    "        \"legend\":\n",
    "            {\n",
    "            \"labels\": [\"q=1\", \"q=0.7\", \"q=0.4\", \"q=0.1\"],\n",
    "            \"loc\": \"center right\",\n",
    "            \"size\":16,\n",
    "            \"ncol\": 2\n",
    "            },\n",
    "        }\n",
    "    }\n",
    "}\n",
    "\n",
    "\n",
    "plot_main(horizon_dict)"
   ]
  },
  {
   "cell_type": "code",
   "execution_count": null,
   "metadata": {
    "collapsed": true
   },
   "outputs": [],
   "source": []
  }
 ],
 "metadata": {
  "anaconda-cloud": {},
  "kernelspec": {
   "display_name": "Python [conda env:anaconda3]",
   "language": "python",
   "name": "conda-env-anaconda3-py"
  },
  "language_info": {
   "codemirror_mode": {
    "name": "ipython",
    "version": 3
   },
   "file_extension": ".py",
   "mimetype": "text/x-python",
   "name": "python",
   "nbconvert_exporter": "python",
   "pygments_lexer": "ipython3",
   "version": "3.5.5"
  }
 },
 "nbformat": 4,
 "nbformat_minor": 1
}
